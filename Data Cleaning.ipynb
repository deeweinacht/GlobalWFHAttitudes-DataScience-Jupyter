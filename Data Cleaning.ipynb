{
 "cells": [
  {
   "cell_type": "markdown",
   "id": "b8d71468-d6fb-4784-80c0-b570b9739b9b",
   "metadata": {},
   "source": [
    "**This Notebook performs data cleaning operations on a global work-from-home survey dataset in preparation for supervised machine learning**\n",
    "\n",
    "Dee Weinacht (c) 2023\n",
    "\n",
    "Data sourced from the Global Survey of Working Arrangements (G-SWA), used under the Creative Commons Attribution 4.0 International License:\n",
    "Aksoy, Cevat Giray, Jose Maria Barrero, Nicholas Bloom, Steven J. Davis, Mathias Dolls and Pablo Zarate, 2022. “Working from Home Around the World,” Brookings Papers on Economic Activity.\n",
    "https://wfhresearch.com/\n",
    "\n",
    "---\n",
    "\n",
    "## Initial Setup"
   ]
  },
  {
   "cell_type": "code",
   "execution_count": 1,
   "id": "158779be-bd2a-463f-bc54-96a59b30e31e",
   "metadata": {},
   "outputs": [],
   "source": [
    "#  imports\n",
    "import pandas as pd\n",
    "import numpy as np"
   ]
  },
  {
   "cell_type": "markdown",
   "id": "2fdad79b-7bef-44f7-95da-a43fc391488a",
   "metadata": {},
   "source": [
    "Load dataset and display summary information:"
   ]
  },
  {
   "cell_type": "code",
   "execution_count": 2,
   "id": "df8f9218-80ed-452b-80a7-6d9d292451c9",
   "metadata": {},
   "outputs": [
    {
     "data": {
      "text/html": [
       "<div>\n",
       "<style scoped>\n",
       "    .dataframe tbody tr th:only-of-type {\n",
       "        vertical-align: middle;\n",
       "    }\n",
       "\n",
       "    .dataframe tbody tr th {\n",
       "        vertical-align: top;\n",
       "    }\n",
       "\n",
       "    .dataframe thead th {\n",
       "        text-align: right;\n",
       "    }\n",
       "</style>\n",
       "<table border=\"1\" class=\"dataframe\">\n",
       "  <thead>\n",
       "    <tr style=\"text-align: right;\">\n",
       "      <th></th>\n",
       "      <th>idnum</th>\n",
       "      <th>original_country</th>\n",
       "      <th>wave</th>\n",
       "      <th>country</th>\n",
       "      <th>originalcountry</th>\n",
       "      <th>regionname</th>\n",
       "      <th>gender</th>\n",
       "      <th>agegroups</th>\n",
       "      <th>education</th>\n",
       "      <th>industry_job</th>\n",
       "      <th>...</th>\n",
       "      <th>return_office</th>\n",
       "      <th>ever_WFH</th>\n",
       "      <th>commute_time_hs</th>\n",
       "      <th>deaths_pc</th>\n",
       "      <th>LSI</th>\n",
       "      <th>reg_deaths_pc</th>\n",
       "      <th>subn_LSI</th>\n",
       "      <th>oxf_LSI</th>\n",
       "      <th>gdppc2019</th>\n",
       "      <th>mask</th>\n",
       "    </tr>\n",
       "  </thead>\n",
       "  <tbody>\n",
       "    <tr>\n",
       "      <th>0</th>\n",
       "      <td>1</td>\n",
       "      <td>Australia</td>\n",
       "      <td>1</td>\n",
       "      <td>Australia 1</td>\n",
       "      <td>27</td>\n",
       "      <td>Victoria</td>\n",
       "      <td>Male</td>\n",
       "      <td>50-59</td>\n",
       "      <td>Secondary</td>\n",
       "      <td>Professional &amp; Business Services</td>\n",
       "      <td>...</td>\n",
       "      <td>NaN</td>\n",
       "      <td>100</td>\n",
       "      <td>0.200000</td>\n",
       "      <td>0.000036</td>\n",
       "      <td>11.689555</td>\n",
       "      <td>0.000123</td>\n",
       "      <td>9.047081</td>\n",
       "      <td>1049.078321</td>\n",
       "      <td>58781.046657</td>\n",
       "      <td>7.840399</td>\n",
       "    </tr>\n",
       "    <tr>\n",
       "      <th>1</th>\n",
       "      <td>2</td>\n",
       "      <td>Australia</td>\n",
       "      <td>1</td>\n",
       "      <td>Australia 1</td>\n",
       "      <td>27</td>\n",
       "      <td>Queensland</td>\n",
       "      <td>Male</td>\n",
       "      <td>40-49</td>\n",
       "      <td>Tertiary</td>\n",
       "      <td>Professional &amp; Business Services</td>\n",
       "      <td>...</td>\n",
       "      <td>NaN</td>\n",
       "      <td>100</td>\n",
       "      <td>1.500000</td>\n",
       "      <td>0.000036</td>\n",
       "      <td>11.689555</td>\n",
       "      <td>0.000001</td>\n",
       "      <td>7.829032</td>\n",
       "      <td>1049.078321</td>\n",
       "      <td>58781.046657</td>\n",
       "      <td>7.840399</td>\n",
       "    </tr>\n",
       "    <tr>\n",
       "      <th>2</th>\n",
       "      <td>3</td>\n",
       "      <td>Australia</td>\n",
       "      <td>1</td>\n",
       "      <td>Australia 1</td>\n",
       "      <td>27</td>\n",
       "      <td>Victoria</td>\n",
       "      <td>Male</td>\n",
       "      <td>30-39</td>\n",
       "      <td>Graduate</td>\n",
       "      <td>Professional &amp; Business Services</td>\n",
       "      <td>...</td>\n",
       "      <td>NaN</td>\n",
       "      <td>100</td>\n",
       "      <td>2.000000</td>\n",
       "      <td>0.000036</td>\n",
       "      <td>11.689555</td>\n",
       "      <td>0.000123</td>\n",
       "      <td>9.047081</td>\n",
       "      <td>1049.078321</td>\n",
       "      <td>58781.046657</td>\n",
       "      <td>7.840399</td>\n",
       "    </tr>\n",
       "    <tr>\n",
       "      <th>3</th>\n",
       "      <td>4</td>\n",
       "      <td>Australia</td>\n",
       "      <td>1</td>\n",
       "      <td>Australia 1</td>\n",
       "      <td>27</td>\n",
       "      <td>Victoria</td>\n",
       "      <td>Male</td>\n",
       "      <td>40-49</td>\n",
       "      <td>Graduate</td>\n",
       "      <td>Health Care &amp; Social Assistance</td>\n",
       "      <td>...</td>\n",
       "      <td>NaN</td>\n",
       "      <td>0</td>\n",
       "      <td>1.000000</td>\n",
       "      <td>0.000036</td>\n",
       "      <td>11.689555</td>\n",
       "      <td>0.000123</td>\n",
       "      <td>9.047081</td>\n",
       "      <td>1049.078321</td>\n",
       "      <td>58781.046657</td>\n",
       "      <td>7.840399</td>\n",
       "    </tr>\n",
       "    <tr>\n",
       "      <th>4</th>\n",
       "      <td>5</td>\n",
       "      <td>Australia</td>\n",
       "      <td>1</td>\n",
       "      <td>Australia 1</td>\n",
       "      <td>27</td>\n",
       "      <td>Victoria</td>\n",
       "      <td>Male</td>\n",
       "      <td>20-29</td>\n",
       "      <td>Secondary</td>\n",
       "      <td>Other</td>\n",
       "      <td>...</td>\n",
       "      <td>NaN</td>\n",
       "      <td>0</td>\n",
       "      <td>0.033333</td>\n",
       "      <td>0.000036</td>\n",
       "      <td>11.689555</td>\n",
       "      <td>0.000123</td>\n",
       "      <td>9.047081</td>\n",
       "      <td>1049.078321</td>\n",
       "      <td>58781.046657</td>\n",
       "      <td>7.840399</td>\n",
       "    </tr>\n",
       "  </tbody>\n",
       "</table>\n",
       "<p>5 rows × 34 columns</p>\n",
       "</div>"
      ],
      "text/plain": [
       "   idnum original_country  wave      country  originalcountry  regionname  \\\n",
       "0      1        Australia     1  Australia 1               27    Victoria   \n",
       "1      2        Australia     1  Australia 1               27  Queensland   \n",
       "2      3        Australia     1  Australia 1               27    Victoria   \n",
       "3      4        Australia     1  Australia 1               27    Victoria   \n",
       "4      5        Australia     1  Australia 1               27    Victoria   \n",
       "\n",
       "  gender agegroups  education                      industry_job  ...  \\\n",
       "0   Male     50-59  Secondary  Professional & Business Services  ...   \n",
       "1   Male     40-49   Tertiary  Professional & Business Services  ...   \n",
       "2   Male     30-39   Graduate  Professional & Business Services  ...   \n",
       "3   Male     40-49   Graduate   Health Care & Social Assistance  ...   \n",
       "4   Male     20-29  Secondary                             Other  ...   \n",
       "\n",
       "   return_office  ever_WFH  commute_time_hs  deaths_pc        LSI  \\\n",
       "0            NaN       100         0.200000   0.000036  11.689555   \n",
       "1            NaN       100         1.500000   0.000036  11.689555   \n",
       "2            NaN       100         2.000000   0.000036  11.689555   \n",
       "3            NaN         0         1.000000   0.000036  11.689555   \n",
       "4            NaN         0         0.033333   0.000036  11.689555   \n",
       "\n",
       "   reg_deaths_pc  subn_LSI      oxf_LSI     gdppc2019      mask  \n",
       "0       0.000123  9.047081  1049.078321  58781.046657  7.840399  \n",
       "1       0.000001  7.829032  1049.078321  58781.046657  7.840399  \n",
       "2       0.000123  9.047081  1049.078321  58781.046657  7.840399  \n",
       "3       0.000123  9.047081  1049.078321  58781.046657  7.840399  \n",
       "4       0.000123  9.047081  1049.078321  58781.046657  7.840399  \n",
       "\n",
       "[5 rows x 34 columns]"
      ]
     },
     "execution_count": 2,
     "metadata": {},
     "output_type": "execute_result"
    }
   ],
   "source": [
    "df = pd.read_excel('G-SWA.xlsx')\n",
    "df.head()"
   ]
  },
  {
   "cell_type": "code",
   "execution_count": 3,
   "id": "435654b1-265d-4737-87ef-48701188ae11",
   "metadata": {},
   "outputs": [
    {
     "name": "stdout",
     "output_type": "stream",
     "text": [
      "<class 'pandas.core.frame.DataFrame'>\n",
      "RangeIndex: 36078 entries, 0 to 36077\n",
      "Data columns (total 34 columns):\n",
      " #   Column                  Non-Null Count  Dtype  \n",
      "---  ------                  --------------  -----  \n",
      " 0   idnum                   36078 non-null  int64  \n",
      " 1   original_country        36078 non-null  object \n",
      " 2   wave                    36078 non-null  int64  \n",
      " 3   country                 36078 non-null  object \n",
      " 4   originalcountry         36078 non-null  int64  \n",
      " 5   regionname              7849 non-null   object \n",
      " 6   gender                  36078 non-null  object \n",
      " 7   agegroups               36078 non-null  object \n",
      " 8   education               36078 non-null  object \n",
      " 9   industry_job            36078 non-null  object \n",
      " 10  age                     36078 non-null  int64  \n",
      " 11  tertiary                36078 non-null  int64  \n",
      " 12  graduate                36078 non-null  int64  \n",
      " 13  married                 26745 non-null  float64\n",
      " 14  male                    36078 non-null  int64  \n",
      " 15  with_kids               26726 non-null  float64\n",
      " 16  male_with_kids          26726 non-null  float64\n",
      " 17  n_work_home             33091 non-null  float64\n",
      " 18  daysemployer_work_home  34875 non-null  float64\n",
      " 19  daysemployee_work_home  36078 non-null  int64  \n",
      " 20  value_WFH_rawpercent25  36078 non-null  float64\n",
      " 21  commuting_time          36078 non-null  int64  \n",
      " 22  WFH_expectations1       19027 non-null  float64\n",
      " 23  WFHperceptions          36078 non-null  int64  \n",
      " 24  return_office           23849 non-null  object \n",
      " 25  ever_WFH                36078 non-null  int64  \n",
      " 26  commute_time_hs         36024 non-null  float64\n",
      " 27  deaths_pc               36078 non-null  float64\n",
      " 28  LSI                     36078 non-null  float64\n",
      " 29  reg_deaths_pc           7749 non-null   float64\n",
      " 30  subn_LSI                7749 non-null   float64\n",
      " 31  oxf_LSI                 36078 non-null  float64\n",
      " 32  gdppc2019               36078 non-null  float64\n",
      " 33  mask                    36078 non-null  float64\n",
      "dtypes: float64(15), int64(11), object(8)\n",
      "memory usage: 9.4+ MB\n"
     ]
    }
   ],
   "source": [
    "df.info()"
   ]
  },
  {
   "cell_type": "markdown",
   "id": "c5c1e228-443a-4aa0-9b03-13c44d938898",
   "metadata": {},
   "source": [
    "The original dataset is comprised of 36,078 entries with 34 variables.\n",
    "\n",
    "## Dataset Reduction\n",
    "\n",
    "The 'return_office' variable will be the target for supervised machine learning. Therefore, the dataset is reduced to only rows with a response for 'return_office' and who have ever primarily worked from home:"
   ]
  },
  {
   "cell_type": "code",
   "execution_count": 4,
   "id": "f96768cb-55bf-42f1-bc61-2766f769a156",
   "metadata": {},
   "outputs": [
    {
     "data": {
      "text/plain": [
       "12474"
      ]
     },
     "execution_count": 4,
     "metadata": {},
     "output_type": "execute_result"
    }
   ],
   "source": [
    "df = df.dropna(subset='return_office')\n",
    "df = df[df['ever_WFH'] == 100]\n",
    "len(df)"
   ]
  },
  {
   "cell_type": "markdown",
   "id": "fd9eeaf2-263d-4367-8604-19d415602539",
   "metadata": {},
   "source": [
    "Next, columns that contain information irrelevant to the machine learning task will be dropped:"
   ]
  },
  {
   "cell_type": "code",
   "execution_count": 5,
   "id": "feb9f3ac-bd52-41d0-90cf-b1cd8119d575",
   "metadata": {},
   "outputs": [
    {
     "data": {
      "text/plain": [
       "30"
      ]
     },
     "execution_count": 5,
     "metadata": {},
     "output_type": "execute_result"
    }
   ],
   "source": [
    "df.drop(labels=['idnum', 'country', 'wave', 'ever_WFH'], axis=1, inplace=True, errors='ignore')\n",
    "len(df.columns)"
   ]
  },
  {
   "cell_type": "markdown",
   "id": "6e68161a-e99e-4dc0-ac75-1749a7c5a102",
   "metadata": {},
   "source": [
    "Next, list the variables with missing values with how many entries they contain:"
   ]
  },
  {
   "cell_type": "code",
   "execution_count": 6,
   "id": "20cda3fe-c400-428e-a691-8d7e03e2c1cf",
   "metadata": {},
   "outputs": [
    {
     "name": "stdout",
     "output_type": "stream",
     "text": [
      "regionname 3323\n",
      "married 7757\n",
      "with_kids 7752\n",
      "male_with_kids 7752\n",
      "n_work_home 11453\n",
      "daysemployer_work_home 11988\n",
      "commute_time_hs 12454\n",
      "reg_deaths_pc 3236\n",
      "subn_LSI 3236\n"
     ]
    }
   ],
   "source": [
    "for col in df:\n",
    "    if df[col].count() < len(df):\n",
    "        print(col, df[col].count())"
   ]
  },
  {
   "cell_type": "markdown",
   "id": "e99c3285-80d5-40bb-afad-a17f95047b78",
   "metadata": {},
   "source": [
    "Drop the variables with fewer than 4000 entries (~1/3 of total):"
   ]
  },
  {
   "cell_type": "code",
   "execution_count": 7,
   "id": "865763dc-11fd-4c9c-a734-f4b2787ebf3d",
   "metadata": {},
   "outputs": [
    {
     "name": "stdout",
     "output_type": "stream",
     "text": [
      "married 7757\n",
      "with_kids 7752\n",
      "male_with_kids 7752\n",
      "n_work_home 11453\n",
      "daysemployer_work_home 11988\n",
      "commute_time_hs 12454\n"
     ]
    }
   ],
   "source": [
    "df.dropna(axis=1, thresh=4000, inplace=True)\n",
    "for col in df:\n",
    "    if df[col].count() < len(df):\n",
    "        print(col, df[col].count())"
   ]
  },
  {
   "cell_type": "markdown",
   "id": "a0606c7f-1f25-4b94-a56a-d4270873bd6b",
   "metadata": {},
   "source": [
    "There are 6 remaining variables with some missing values. The missing values will be addressed later.\n",
    "\n",
    "List all column names to identify possible redundant variables:"
   ]
  },
  {
   "cell_type": "code",
   "execution_count": 8,
   "id": "6c3cf444-9092-408a-bd83-a6d73ed2d230",
   "metadata": {},
   "outputs": [
    {
     "name": "stdout",
     "output_type": "stream",
     "text": [
      "1 original_country\n",
      "2 originalcountry\n",
      "3 gender\n",
      "4 agegroups\n",
      "5 education\n",
      "6 industry_job\n",
      "7 age\n",
      "8 tertiary\n",
      "9 graduate\n",
      "10 married\n",
      "11 male\n",
      "12 with_kids\n",
      "13 male_with_kids\n",
      "14 n_work_home\n",
      "15 daysemployer_work_home\n",
      "16 daysemployee_work_home\n",
      "17 value_WFH_rawpercent25\n",
      "18 commuting_time\n",
      "19 WFH_expectations1\n",
      "20 WFHperceptions\n",
      "21 return_office\n",
      "22 commute_time_hs\n",
      "23 deaths_pc\n",
      "24 LSI\n",
      "25 oxf_LSI\n",
      "26 gdppc2019\n",
      "27 mask\n"
     ]
    }
   ],
   "source": [
    "for num, col in enumerate(df.columns):\n",
    "    print(num+1, col)"
   ]
  },
  {
   "cell_type": "markdown",
   "id": "550c3f7b-2967-4113-956f-53a1d07e3c2f",
   "metadata": {},
   "source": [
    "Identify redundant variables to remove:"
   ]
  },
  {
   "cell_type": "code",
   "execution_count": 9,
   "id": "cdfaaaef-8324-49b3-bbeb-de433c42c00e",
   "metadata": {},
   "outputs": [
    {
     "data": {
      "text/plain": [
       "India          836\n",
       "Malaysia       808\n",
       "Singapore      801\n",
       "Netherlands    695\n",
       "China          649\n",
       "Turkey         629\n",
       "Australia      578\n",
       "Russia         526\n",
       "UK             509\n",
       "Canada         501\n",
       "Ukraine        496\n",
       "Sweden         493\n",
       "Germany        488\n",
       "USA            480\n",
       "Greece         450\n",
       "Italy          438\n",
       "Korea          410\n",
       "Spain          403\n",
       "Taiwan         400\n",
       "Brazil         347\n",
       "Poland         331\n",
       "Hungary        327\n",
       "France         309\n",
       "Austria        301\n",
       "Japan          269\n",
       "Name: original_country, dtype: int64"
      ]
     },
     "execution_count": 9,
     "metadata": {},
     "output_type": "execute_result"
    }
   ],
   "source": [
    "df['original_country'].value_counts()"
   ]
  },
  {
   "cell_type": "code",
   "execution_count": 10,
   "id": "bbcbead5-dd4a-4c87-901e-e9bc1fd9d558",
   "metadata": {},
   "outputs": [
    {
     "data": {
      "text/plain": [
       "19    836\n",
       "22    808\n",
       "24    801\n",
       "10    695\n",
       "18    649\n",
       "15    629\n",
       "27    578\n",
       "23    526\n",
       "16    509\n",
       "2     501\n",
       "17    496\n",
       "14    493\n",
       "6     488\n",
       "3     480\n",
       "7     450\n",
       "9     438\n",
       "21    410\n",
       "13    403\n",
       "25    400\n",
       "1     347\n",
       "11    331\n",
       "8     327\n",
       "5     309\n",
       "4     301\n",
       "20    269\n",
       "Name: originalcountry, dtype: int64"
      ]
     },
     "execution_count": 10,
     "metadata": {},
     "output_type": "execute_result"
    }
   ],
   "source": [
    "df['originalcountry'].value_counts()"
   ]
  },
  {
   "cell_type": "code",
   "execution_count": 11,
   "id": "aa9e355b-bac6-4570-9484-afa89a1bbd45",
   "metadata": {},
   "outputs": [
    {
     "data": {
      "text/plain": [
       "1.0"
      ]
     },
     "execution_count": 11,
     "metadata": {},
     "output_type": "execute_result"
    }
   ],
   "source": [
    "df['commuting_time'].corr(df['commute_time_hs'])"
   ]
  },
  {
   "cell_type": "code",
   "execution_count": 12,
   "id": "bc53aaa1-3cb6-4b4c-b9c0-682eb28a3ed6",
   "metadata": {},
   "outputs": [
    {
     "data": {
      "text/plain": [
       "Female                     6519\n",
       "Male                       5935\n",
       "Other/Prefer not to say      20\n",
       "Name: gender, dtype: int64"
      ]
     },
     "execution_count": 12,
     "metadata": {},
     "output_type": "execute_result"
    }
   ],
   "source": [
    "df['gender'].value_counts()"
   ]
  },
  {
   "cell_type": "code",
   "execution_count": 13,
   "id": "e4884364-0fb9-4a17-9b8b-d6bd8bf14c2f",
   "metadata": {},
   "outputs": [
    {
     "data": {
      "text/plain": [
       "0    6539\n",
       "1    5935\n",
       "Name: male, dtype: int64"
      ]
     },
     "execution_count": 13,
     "metadata": {},
     "output_type": "execute_result"
    }
   ],
   "source": [
    "df['male'].value_counts()"
   ]
  },
  {
   "cell_type": "code",
   "execution_count": 14,
   "id": "0ecd7e7b-9225-4911-95c2-a9a03a714aea",
   "metadata": {},
   "outputs": [
    {
     "data": {
      "text/plain": [
       "0.0    4044\n",
       "1.0    3708\n",
       "Name: with_kids, dtype: int64"
      ]
     },
     "execution_count": 14,
     "metadata": {},
     "output_type": "execute_result"
    }
   ],
   "source": [
    "df['with_kids'].value_counts()"
   ]
  },
  {
   "cell_type": "code",
   "execution_count": 15,
   "id": "78bd636f-09a5-4da7-b36e-0b6f78ce146c",
   "metadata": {},
   "outputs": [
    {
     "data": {
      "text/plain": [
       "0.0    5947\n",
       "1.0    1805\n",
       "Name: male_with_kids, dtype: int64"
      ]
     },
     "execution_count": 15,
     "metadata": {},
     "output_type": "execute_result"
    }
   ],
   "source": [
    "df['male_with_kids'].value_counts()"
   ]
  },
  {
   "cell_type": "code",
   "execution_count": 16,
   "id": "267ff9e5-c07c-45f5-905c-826a6c6b0b50",
   "metadata": {},
   "outputs": [
    {
     "data": {
      "text/plain": [
       "1805"
      ]
     },
     "execution_count": 16,
     "metadata": {},
     "output_type": "execute_result"
    }
   ],
   "source": [
    "len(df[(df['male'] == 1) & (df['with_kids'] == 1)])"
   ]
  },
  {
   "cell_type": "code",
   "execution_count": 17,
   "id": "dc66e6fd-2332-4d2c-9d49-da29850c2683",
   "metadata": {},
   "outputs": [
    {
     "data": {
      "text/plain": [
       "array(['40-49', '30-39', '20-29', ..., '20-29', '40-49', '20-29'],\n",
       "      dtype=object)"
      ]
     },
     "execution_count": 17,
     "metadata": {},
     "output_type": "execute_result"
    }
   ],
   "source": [
    "df['agegroups'].values"
   ]
  },
  {
   "cell_type": "code",
   "execution_count": 18,
   "id": "5c0376e7-6b49-4ab7-9b7f-b5fe09da142c",
   "metadata": {},
   "outputs": [
    {
     "data": {
      "text/plain": [
       "array([44, 32, 21, ..., 27, 43, 26], dtype=int64)"
      ]
     },
     "execution_count": 18,
     "metadata": {},
     "output_type": "execute_result"
    }
   ],
   "source": [
    "df['age'].values"
   ]
  },
  {
   "cell_type": "code",
   "execution_count": 19,
   "id": "5951b24f-7097-4d45-a46c-de90d9ca72e8",
   "metadata": {},
   "outputs": [
    {
     "data": {
      "text/plain": [
       "Graduate     5519\n",
       "Tertiary     4466\n",
       "Secondary    2489\n",
       "Name: education, dtype: int64"
      ]
     },
     "execution_count": 19,
     "metadata": {},
     "output_type": "execute_result"
    }
   ],
   "source": [
    "df['education'].value_counts()"
   ]
  },
  {
   "cell_type": "markdown",
   "id": "673c2ca0-78ee-4176-b3a0-3f4eba190c15",
   "metadata": {},
   "source": [
    "- Countries are listed by both number and name\n",
    "- 'commuting time' and 'commute_time_hs' convey the same information, but with different units.\n",
    "- 'male' is a dummy variable for 'gender' but excludes 'Other/Prefer not to say'\n",
    "- 'male_with_kids' is redundant with 'gender' and 'with_kids'\n",
    "- 'agegroups' is just 'age' assigned to groupings\n",
    "- 'tertiary' and 'graduate' are dummy variables for 'education'\n",
    "\n",
    "Redundant columns are dropped from the dataset:"
   ]
  },
  {
   "cell_type": "code",
   "execution_count": 20,
   "id": "0d1951f4-69f5-4756-b0d3-7fc7a04870b4",
   "metadata": {},
   "outputs": [
    {
     "name": "stdout",
     "output_type": "stream",
     "text": [
      "1 original_country\n",
      "2 gender\n",
      "3 education\n",
      "4 industry_job\n",
      "5 age\n",
      "6 married\n",
      "7 with_kids\n",
      "8 n_work_home\n",
      "9 daysemployer_work_home\n",
      "10 daysemployee_work_home\n",
      "11 value_WFH_rawpercent25\n",
      "12 WFH_expectations1\n",
      "13 WFHperceptions\n",
      "14 return_office\n",
      "15 commute_time_hs\n",
      "16 deaths_pc\n",
      "17 LSI\n",
      "18 oxf_LSI\n",
      "19 gdppc2019\n",
      "20 mask\n"
     ]
    }
   ],
   "source": [
    "df.drop(labels=['originalcountry', 'commuting_time', 'male', 'male_with_kids', 'agegroups', 'tertiary', 'graduate'], axis=1, inplace=True, errors='ignore')\n",
    "for num, col in enumerate(df.columns):\n",
    "    print(num+1, col)"
   ]
  },
  {
   "cell_type": "markdown",
   "id": "9d713ee5-5671-4307-941c-30eba8fbe57a",
   "metadata": {},
   "source": [
    "There are 20 remaining variables in the dataset.\n",
    "\n",
    "## Fix Structural Errors\n",
    "\n",
    "Rename columns with a consistent naming scheme:"
   ]
  },
  {
   "cell_type": "code",
   "execution_count": 21,
   "id": "19e34ddc-a39f-4d6d-9929-217cdf6079ce",
   "metadata": {},
   "outputs": [],
   "source": [
    "df.rename({'n_work_home': 'work_home_days_current', 'daysemployer_work_home': 'work_home_days_employer', 'daysemployee_work_home': 'work_home_days_employee', 'value_WFH_rawpercent25': 'WFH_value', 'WFH_expectations1': 'WFH_expectation', 'WFHperceptions': 'WFH_perception', 'gdppc2019': 'GDP_pc_2019'}, axis=1, inplace=True) "
   ]
  },
  {
   "cell_type": "markdown",
   "id": "234ee016-1005-4883-ba7f-bf97fc857b86",
   "metadata": {},
   "source": [
    "## Fill missing values\n",
    "\n",
    "List columns missing values: "
   ]
  },
  {
   "cell_type": "code",
   "execution_count": 22,
   "id": "8a137a8b-5524-4d24-92cb-2b1e077792f5",
   "metadata": {},
   "outputs": [
    {
     "name": "stdout",
     "output_type": "stream",
     "text": [
      "married 7757\n",
      "with_kids 7752\n",
      "work_home_days_current 11453\n",
      "work_home_days_employer 11988\n",
      "commute_time_hs 12454\n"
     ]
    }
   ],
   "source": [
    "for col in df:\n",
    "    if df[col].count() < len(df):\n",
    "        print(col, df[col].count())"
   ]
  },
  {
   "cell_type": "markdown",
   "id": "bba50c27-4221-4aad-9a23-b5b80f409b3c",
   "metadata": {},
   "source": [
    "Fill missing values by using a different correlated variable to group by and take the central value of the group:\n",
    "\n",
    "Address the 'married variable:"
   ]
  },
  {
   "cell_type": "code",
   "execution_count": 23,
   "id": "afde824d-2d67-4e89-a35f-6f7dca7eb727",
   "metadata": {},
   "outputs": [
    {
     "data": {
      "text/plain": [
       "age                        0.161358\n",
       "married                    1.000000\n",
       "with_kids                  0.380384\n",
       "work_home_days_current    -0.031746\n",
       "work_home_days_employer    0.015895\n",
       "work_home_days_employee   -0.022241\n",
       "WFH_value                  0.038750\n",
       "WFH_expectation            0.010749\n",
       "WFH_perception             0.000043\n",
       "commute_time_hs            0.006638\n",
       "deaths_pc                 -0.043830\n",
       "LSI                       -0.037766\n",
       "oxf_LSI                   -0.013507\n",
       "GDP_pc_2019               -0.075406\n",
       "mask                      -0.029473\n",
       "dtype: float64"
      ]
     },
     "execution_count": 23,
     "metadata": {},
     "output_type": "execute_result"
    }
   ],
   "source": [
    "df.corrwith(df['married'])"
   ]
  },
  {
   "cell_type": "code",
   "execution_count": 24,
   "id": "31e70ffd-e91b-4707-9d4b-515f936786fd",
   "metadata": {},
   "outputs": [],
   "source": [
    "df['married'] = df['married'].fillna(df.groupby('age')['married'].transform('median'))"
   ]
  },
  {
   "cell_type": "code",
   "execution_count": 25,
   "id": "b142de90-d82e-4765-af6f-c366c6fec832",
   "metadata": {
    "tags": []
   },
   "outputs": [
    {
     "data": {
      "text/plain": [
       "0"
      ]
     },
     "execution_count": 25,
     "metadata": {},
     "output_type": "execute_result"
    }
   ],
   "source": [
    "len(df[df['married'].notnull() == False])"
   ]
  },
  {
   "cell_type": "markdown",
   "id": "7ac8c249-e3b6-425b-b979-4b865d7eba1a",
   "metadata": {},
   "source": [
    "There are 0 remaining null values for the 'married' variable.\n",
    "\n",
    "Next, address the 'with_kids' variable:"
   ]
  },
  {
   "cell_type": "code",
   "execution_count": 26,
   "id": "dbfcec5a-a09d-4b78-83d0-5bcc49245316",
   "metadata": {},
   "outputs": [
    {
     "data": {
      "text/plain": [
       "age                       -0.136069\n",
       "married                    0.380384\n",
       "with_kids                  1.000000\n",
       "work_home_days_current    -0.030892\n",
       "work_home_days_employer    0.059927\n",
       "work_home_days_employee   -0.038923\n",
       "WFH_value                  0.084070\n",
       "WFH_expectation            0.039903\n",
       "WFH_perception             0.035732\n",
       "commute_time_hs            0.030443\n",
       "deaths_pc                 -0.143992\n",
       "LSI                        0.042593\n",
       "oxf_LSI                    0.104853\n",
       "GDP_pc_2019               -0.181807\n",
       "mask                       0.078538\n",
       "dtype: float64"
      ]
     },
     "execution_count": 26,
     "metadata": {},
     "output_type": "execute_result"
    }
   ],
   "source": [
    "df.corrwith(df['with_kids'])"
   ]
  },
  {
   "cell_type": "code",
   "execution_count": 27,
   "id": "59d996c4-99a2-4a97-84d3-1170ccc5187a",
   "metadata": {},
   "outputs": [
    {
     "data": {
      "text/plain": [
       "0"
      ]
     },
     "execution_count": 27,
     "metadata": {},
     "output_type": "execute_result"
    }
   ],
   "source": [
    "df['with_kids'] = df['with_kids'].fillna(df.groupby('age')['with_kids'].transform('median'))\n",
    "len(df[df['with_kids'].notnull() == False])"
   ]
  },
  {
   "cell_type": "markdown",
   "id": "73d3e4d7-8267-4817-a7d7-57cc5eddcc72",
   "metadata": {},
   "source": [
    "There are 0 remaining null values for the 'with_kids' variable.\n",
    "\n",
    "Next, address the 'work_home_days_employer' variable:"
   ]
  },
  {
   "cell_type": "code",
   "execution_count": 28,
   "id": "93d3dece-f4c0-477f-bef5-62f31534b0f5",
   "metadata": {},
   "outputs": [
    {
     "data": {
      "text/plain": [
       "age                       -0.044307\n",
       "married                   -0.007388\n",
       "with_kids                  0.049631\n",
       "work_home_days_current     0.426000\n",
       "work_home_days_employer    1.000000\n",
       "work_home_days_employee    0.479360\n",
       "WFH_value                  0.142905\n",
       "WFH_expectation            0.207597\n",
       "WFH_perception             0.175806\n",
       "commute_time_hs            0.059209\n",
       "deaths_pc                 -0.022329\n",
       "LSI                        0.095135\n",
       "oxf_LSI                    0.065029\n",
       "GDP_pc_2019                0.052894\n",
       "mask                       0.066025\n",
       "dtype: float64"
      ]
     },
     "execution_count": 28,
     "metadata": {},
     "output_type": "execute_result"
    }
   ],
   "source": [
    "df.corrwith(df['work_home_days_employer'])"
   ]
  },
  {
   "cell_type": "code",
   "execution_count": 29,
   "id": "833f86c3-7173-48f4-ac2f-ee71db48e700",
   "metadata": {},
   "outputs": [
    {
     "data": {
      "text/plain": [
       "0"
      ]
     },
     "execution_count": 29,
     "metadata": {},
     "output_type": "execute_result"
    }
   ],
   "source": [
    "df['work_home_days_employer'] = df['work_home_days_employer'].fillna(df.groupby('work_home_days_employee')['work_home_days_employer'].transform('median'))\n",
    "len(df[df['work_home_days_employer'].notnull() == False])"
   ]
  },
  {
   "cell_type": "markdown",
   "id": "3b9025da-68df-46d4-be25-94c9e1d79b59",
   "metadata": {},
   "source": [
    "There are 0 remaining null values for the 'work_home_days_employer' variable.\n",
    "\n",
    "Next, address the 'work_home_days_current' variable:"
   ]
  },
  {
   "cell_type": "code",
   "execution_count": 30,
   "id": "dbb35bbc-4f7a-4ef6-a296-d2a34020e6da",
   "metadata": {},
   "outputs": [
    {
     "data": {
      "text/plain": [
       "age                        0.018524\n",
       "married                   -0.025248\n",
       "with_kids                 -0.007943\n",
       "work_home_days_current     1.000000\n",
       "work_home_days_employer    0.433804\n",
       "work_home_days_employee    0.459371\n",
       "WFH_value                  0.124702\n",
       "WFH_expectation            0.215371\n",
       "WFH_perception             0.166153\n",
       "commute_time_hs            0.088390\n",
       "deaths_pc                 -0.022779\n",
       "LSI                        0.102137\n",
       "oxf_LSI                    0.082690\n",
       "GDP_pc_2019                0.123212\n",
       "mask                       0.067546\n",
       "dtype: float64"
      ]
     },
     "execution_count": 30,
     "metadata": {},
     "output_type": "execute_result"
    }
   ],
   "source": [
    "df.corrwith(df['work_home_days_current'])"
   ]
  },
  {
   "cell_type": "code",
   "execution_count": 31,
   "id": "da98cb21-2085-4235-9b1e-afbc2fac8e14",
   "metadata": {},
   "outputs": [
    {
     "data": {
      "text/plain": [
       "0"
      ]
     },
     "execution_count": 31,
     "metadata": {},
     "output_type": "execute_result"
    }
   ],
   "source": [
    "df['work_home_days_current'] = df['work_home_days_current'].fillna(df.groupby('work_home_days_employee')['work_home_days_current'].transform('median'))\n",
    "len(df[df['work_home_days_current'].notnull() == False])"
   ]
  },
  {
   "cell_type": "markdown",
   "id": "9944c3a8-f2e1-4f79-b0f5-be58aa0f7f80",
   "metadata": {},
   "source": [
    "There are 0 remaining null values for the 'work_home_days_current' variable.\n",
    "\n",
    "Next, address the 'WFH_expectation' variable:"
   ]
  },
  {
   "cell_type": "code",
   "execution_count": 32,
   "id": "d384792c-2fb5-44fe-ba02-482e5ce6ddd4",
   "metadata": {},
   "outputs": [
    {
     "data": {
      "text/plain": [
       "age                       -0.089833\n",
       "married                   -0.016588\n",
       "with_kids                  0.039608\n",
       "work_home_days_current     0.221209\n",
       "work_home_days_employer    0.212086\n",
       "work_home_days_employee    0.356367\n",
       "WFH_value                  0.339381\n",
       "WFH_expectation            1.000000\n",
       "WFH_perception             0.476761\n",
       "commute_time_hs            0.114559\n",
       "deaths_pc                  0.023870\n",
       "LSI                        0.073299\n",
       "oxf_LSI                    0.076404\n",
       "GDP_pc_2019                0.006743\n",
       "mask                       0.074056\n",
       "dtype: float64"
      ]
     },
     "execution_count": 32,
     "metadata": {},
     "output_type": "execute_result"
    }
   ],
   "source": [
    "df.corrwith(df['WFH_expectation'])"
   ]
  },
  {
   "cell_type": "code",
   "execution_count": 33,
   "id": "a4ca4068-2da4-4486-a4ee-c3d61e57ead0",
   "metadata": {},
   "outputs": [
    {
     "data": {
      "text/plain": [
       "0"
      ]
     },
     "execution_count": 33,
     "metadata": {},
     "output_type": "execute_result"
    }
   ],
   "source": [
    "df['WFH_expectation'] = df['WFH_expectation'].fillna(df.groupby('WFH_perception')['WFH_expectation'].transform('median'))\n",
    "len(df[df['WFH_expectation'].notnull() == False])"
   ]
  },
  {
   "cell_type": "markdown",
   "id": "329403bb-93e0-465f-9e5f-791256dc4af5",
   "metadata": {},
   "source": [
    "There are 0 remaining null values for the 'WFH_expectation' variable.\n",
    "\n",
    "Next, address the 'commute_time_hs' variable:"
   ]
  },
  {
   "cell_type": "code",
   "execution_count": 34,
   "id": "8aea9cc5-be6d-4243-aebe-cb9b3e82f6fb",
   "metadata": {},
   "outputs": [
    {
     "data": {
      "text/plain": [
       "age                       -0.015528\n",
       "married                    0.008993\n",
       "with_kids                  0.031346\n",
       "work_home_days_current     0.089488\n",
       "work_home_days_employer    0.049030\n",
       "work_home_days_employee    0.105552\n",
       "WFH_value                  0.058915\n",
       "WFH_expectation            0.114559\n",
       "WFH_perception             0.102577\n",
       "commute_time_hs            1.000000\n",
       "deaths_pc                 -0.126848\n",
       "LSI                        0.006921\n",
       "oxf_LSI                   -0.008126\n",
       "GDP_pc_2019               -0.027269\n",
       "mask                       0.054722\n",
       "dtype: float64"
      ]
     },
     "execution_count": 34,
     "metadata": {},
     "output_type": "execute_result"
    }
   ],
   "source": [
    "df.corrwith(df['commute_time_hs'])"
   ]
  },
  {
   "cell_type": "code",
   "execution_count": 36,
   "id": "fd8b0f39-1d22-4a81-84ec-61bb91984d62",
   "metadata": {},
   "outputs": [
    {
     "data": {
      "text/plain": [
       "0"
      ]
     },
     "execution_count": 36,
     "metadata": {},
     "output_type": "execute_result"
    }
   ],
   "source": [
    "df['commute_time_hs'] = df['commute_time_hs'].fillna(df.groupby('original_country')['commute_time_hs'].transform('mean'))\n",
    "len(df[df['commute_time_hs'].notnull() == False])"
   ]
  },
  {
   "cell_type": "markdown",
   "id": "f78ab8de-8a34-4e6f-a968-47481273a1bf",
   "metadata": {},
   "source": [
    "There are 0 remaining null values for the 'commute_time_hs' variable.\n",
    "\n",
    "## Final Check of Clean Data"
   ]
  },
  {
   "cell_type": "code",
   "execution_count": 37,
   "id": "3f084a64-fcd6-4c47-950f-49a84259a03f",
   "metadata": {},
   "outputs": [
    {
     "data": {
      "text/html": [
       "<div>\n",
       "<style scoped>\n",
       "    .dataframe tbody tr th:only-of-type {\n",
       "        vertical-align: middle;\n",
       "    }\n",
       "\n",
       "    .dataframe tbody tr th {\n",
       "        vertical-align: top;\n",
       "    }\n",
       "\n",
       "    .dataframe thead th {\n",
       "        text-align: right;\n",
       "    }\n",
       "</style>\n",
       "<table border=\"1\" class=\"dataframe\">\n",
       "  <thead>\n",
       "    <tr style=\"text-align: right;\">\n",
       "      <th></th>\n",
       "      <th>original_country</th>\n",
       "      <th>gender</th>\n",
       "      <th>education</th>\n",
       "      <th>industry_job</th>\n",
       "      <th>age</th>\n",
       "      <th>married</th>\n",
       "      <th>with_kids</th>\n",
       "      <th>work_home_days_current</th>\n",
       "      <th>work_home_days_employer</th>\n",
       "      <th>work_home_days_employee</th>\n",
       "      <th>WFH_value</th>\n",
       "      <th>WFH_expectation</th>\n",
       "      <th>WFH_perception</th>\n",
       "      <th>return_office</th>\n",
       "      <th>commute_time_hs</th>\n",
       "      <th>deaths_pc</th>\n",
       "      <th>LSI</th>\n",
       "      <th>oxf_LSI</th>\n",
       "      <th>GDP_pc_2019</th>\n",
       "      <th>mask</th>\n",
       "    </tr>\n",
       "  </thead>\n",
       "  <tbody>\n",
       "    <tr>\n",
       "      <th>575</th>\n",
       "      <td>Australia</td>\n",
       "      <td>Female</td>\n",
       "      <td>Graduate</td>\n",
       "      <td>Education</td>\n",
       "      <td>44</td>\n",
       "      <td>1.0</td>\n",
       "      <td>1.0</td>\n",
       "      <td>5.0</td>\n",
       "      <td>0.0</td>\n",
       "      <td>2</td>\n",
       "      <td>2.5</td>\n",
       "      <td>5.0</td>\n",
       "      <td>70</td>\n",
       "      <td>Look for a job to WFH 1-2 days</td>\n",
       "      <td>0.666667</td>\n",
       "      <td>0.000149</td>\n",
       "      <td>16.855146</td>\n",
       "      <td>1441.499009</td>\n",
       "      <td>58781.046657</td>\n",
       "      <td>13.840399</td>\n",
       "    </tr>\n",
       "    <tr>\n",
       "      <th>578</th>\n",
       "      <td>Australia</td>\n",
       "      <td>Female</td>\n",
       "      <td>Tertiary</td>\n",
       "      <td>Education</td>\n",
       "      <td>32</td>\n",
       "      <td>1.0</td>\n",
       "      <td>1.0</td>\n",
       "      <td>5.0</td>\n",
       "      <td>0.0</td>\n",
       "      <td>4</td>\n",
       "      <td>-30.0</td>\n",
       "      <td>0.0</td>\n",
       "      <td>0</td>\n",
       "      <td>Quit job</td>\n",
       "      <td>0.366667</td>\n",
       "      <td>0.000149</td>\n",
       "      <td>16.855146</td>\n",
       "      <td>1441.499009</td>\n",
       "      <td>58781.046657</td>\n",
       "      <td>13.840399</td>\n",
       "    </tr>\n",
       "    <tr>\n",
       "      <th>580</th>\n",
       "      <td>Australia</td>\n",
       "      <td>Male</td>\n",
       "      <td>Secondary</td>\n",
       "      <td>Retail Trade</td>\n",
       "      <td>21</td>\n",
       "      <td>0.0</td>\n",
       "      <td>0.0</td>\n",
       "      <td>5.0</td>\n",
       "      <td>5.0</td>\n",
       "      <td>5</td>\n",
       "      <td>7.5</td>\n",
       "      <td>25.0</td>\n",
       "      <td>95</td>\n",
       "      <td>Comply and return to worksite</td>\n",
       "      <td>1.000000</td>\n",
       "      <td>0.000149</td>\n",
       "      <td>16.855146</td>\n",
       "      <td>1441.499009</td>\n",
       "      <td>58781.046657</td>\n",
       "      <td>13.840399</td>\n",
       "    </tr>\n",
       "    <tr>\n",
       "      <th>581</th>\n",
       "      <td>Australia</td>\n",
       "      <td>Male</td>\n",
       "      <td>Graduate</td>\n",
       "      <td>Information</td>\n",
       "      <td>43</td>\n",
       "      <td>1.0</td>\n",
       "      <td>1.0</td>\n",
       "      <td>3.0</td>\n",
       "      <td>5.0</td>\n",
       "      <td>4</td>\n",
       "      <td>12.5</td>\n",
       "      <td>15.0</td>\n",
       "      <td>0</td>\n",
       "      <td>Comply and return to worksite</td>\n",
       "      <td>1.416667</td>\n",
       "      <td>0.000149</td>\n",
       "      <td>16.855146</td>\n",
       "      <td>1441.499009</td>\n",
       "      <td>58781.046657</td>\n",
       "      <td>13.840399</td>\n",
       "    </tr>\n",
       "    <tr>\n",
       "      <th>582</th>\n",
       "      <td>Australia</td>\n",
       "      <td>Female</td>\n",
       "      <td>Graduate</td>\n",
       "      <td>Education</td>\n",
       "      <td>41</td>\n",
       "      <td>1.0</td>\n",
       "      <td>1.0</td>\n",
       "      <td>3.0</td>\n",
       "      <td>3.0</td>\n",
       "      <td>3</td>\n",
       "      <td>12.5</td>\n",
       "      <td>15.0</td>\n",
       "      <td>70</td>\n",
       "      <td>Comply and return to worksite</td>\n",
       "      <td>2.183333</td>\n",
       "      <td>0.000149</td>\n",
       "      <td>16.855146</td>\n",
       "      <td>1441.499009</td>\n",
       "      <td>58781.046657</td>\n",
       "      <td>13.840399</td>\n",
       "    </tr>\n",
       "  </tbody>\n",
       "</table>\n",
       "</div>"
      ],
      "text/plain": [
       "    original_country  gender  education  industry_job  age  married  \\\n",
       "575        Australia  Female   Graduate     Education   44      1.0   \n",
       "578        Australia  Female   Tertiary     Education   32      1.0   \n",
       "580        Australia    Male  Secondary  Retail Trade   21      0.0   \n",
       "581        Australia    Male   Graduate   Information   43      1.0   \n",
       "582        Australia  Female   Graduate     Education   41      1.0   \n",
       "\n",
       "     with_kids  work_home_days_current  work_home_days_employer  \\\n",
       "575        1.0                     5.0                      0.0   \n",
       "578        1.0                     5.0                      0.0   \n",
       "580        0.0                     5.0                      5.0   \n",
       "581        1.0                     3.0                      5.0   \n",
       "582        1.0                     3.0                      3.0   \n",
       "\n",
       "     work_home_days_employee  WFH_value  WFH_expectation  WFH_perception  \\\n",
       "575                        2        2.5              5.0              70   \n",
       "578                        4      -30.0              0.0               0   \n",
       "580                        5        7.5             25.0              95   \n",
       "581                        4       12.5             15.0               0   \n",
       "582                        3       12.5             15.0              70   \n",
       "\n",
       "                       return_office  commute_time_hs  deaths_pc        LSI  \\\n",
       "575   Look for a job to WFH 1-2 days         0.666667   0.000149  16.855146   \n",
       "578                         Quit job         0.366667   0.000149  16.855146   \n",
       "580    Comply and return to worksite         1.000000   0.000149  16.855146   \n",
       "581    Comply and return to worksite         1.416667   0.000149  16.855146   \n",
       "582    Comply and return to worksite         2.183333   0.000149  16.855146   \n",
       "\n",
       "         oxf_LSI   GDP_pc_2019       mask  \n",
       "575  1441.499009  58781.046657  13.840399  \n",
       "578  1441.499009  58781.046657  13.840399  \n",
       "580  1441.499009  58781.046657  13.840399  \n",
       "581  1441.499009  58781.046657  13.840399  \n",
       "582  1441.499009  58781.046657  13.840399  "
      ]
     },
     "execution_count": 37,
     "metadata": {},
     "output_type": "execute_result"
    }
   ],
   "source": [
    "df.head()"
   ]
  },
  {
   "cell_type": "code",
   "execution_count": 38,
   "id": "eb00c13e-c8aa-4873-aeb1-b317f1231349",
   "metadata": {},
   "outputs": [
    {
     "name": "stdout",
     "output_type": "stream",
     "text": [
      "<class 'pandas.core.frame.DataFrame'>\n",
      "Int64Index: 12474 entries, 575 to 36076\n",
      "Data columns (total 20 columns):\n",
      " #   Column                   Non-Null Count  Dtype  \n",
      "---  ------                   --------------  -----  \n",
      " 0   original_country         12474 non-null  object \n",
      " 1   gender                   12474 non-null  object \n",
      " 2   education                12474 non-null  object \n",
      " 3   industry_job             12474 non-null  object \n",
      " 4   age                      12474 non-null  int64  \n",
      " 5   married                  12474 non-null  float64\n",
      " 6   with_kids                12474 non-null  float64\n",
      " 7   work_home_days_current   12474 non-null  float64\n",
      " 8   work_home_days_employer  12474 non-null  float64\n",
      " 9   work_home_days_employee  12474 non-null  int64  \n",
      " 10  WFH_value                12474 non-null  float64\n",
      " 11  WFH_expectation          12474 non-null  float64\n",
      " 12  WFH_perception           12474 non-null  int64  \n",
      " 13  return_office            12474 non-null  object \n",
      " 14  commute_time_hs          12474 non-null  float64\n",
      " 15  deaths_pc                12474 non-null  float64\n",
      " 16  LSI                      12474 non-null  float64\n",
      " 17  oxf_LSI                  12474 non-null  float64\n",
      " 18  GDP_pc_2019              12474 non-null  float64\n",
      " 19  mask                     12474 non-null  float64\n",
      "dtypes: float64(12), int64(3), object(5)\n",
      "memory usage: 2.0+ MB\n"
     ]
    }
   ],
   "source": [
    "df.info()"
   ]
  },
  {
   "cell_type": "code",
   "execution_count": 39,
   "id": "3a22b22c-4c36-409e-849b-38154ee90246",
   "metadata": {},
   "outputs": [
    {
     "data": {
      "text/html": [
       "<div>\n",
       "<style scoped>\n",
       "    .dataframe tbody tr th:only-of-type {\n",
       "        vertical-align: middle;\n",
       "    }\n",
       "\n",
       "    .dataframe tbody tr th {\n",
       "        vertical-align: top;\n",
       "    }\n",
       "\n",
       "    .dataframe thead th {\n",
       "        text-align: right;\n",
       "    }\n",
       "</style>\n",
       "<table border=\"1\" class=\"dataframe\">\n",
       "  <thead>\n",
       "    <tr style=\"text-align: right;\">\n",
       "      <th></th>\n",
       "      <th>age</th>\n",
       "      <th>married</th>\n",
       "      <th>with_kids</th>\n",
       "      <th>work_home_days_current</th>\n",
       "      <th>work_home_days_employer</th>\n",
       "      <th>work_home_days_employee</th>\n",
       "      <th>WFH_value</th>\n",
       "      <th>WFH_expectation</th>\n",
       "      <th>WFH_perception</th>\n",
       "      <th>commute_time_hs</th>\n",
       "      <th>deaths_pc</th>\n",
       "      <th>LSI</th>\n",
       "      <th>oxf_LSI</th>\n",
       "      <th>GDP_pc_2019</th>\n",
       "      <th>mask</th>\n",
       "    </tr>\n",
       "  </thead>\n",
       "  <tbody>\n",
       "    <tr>\n",
       "      <th>count</th>\n",
       "      <td>12474.000000</td>\n",
       "      <td>12474.000000</td>\n",
       "      <td>12474.000000</td>\n",
       "      <td>12474.000000</td>\n",
       "      <td>12474.000000</td>\n",
       "      <td>12474.000000</td>\n",
       "      <td>12474.000000</td>\n",
       "      <td>12474.000000</td>\n",
       "      <td>12474.000000</td>\n",
       "      <td>12474.000000</td>\n",
       "      <td>12474.000000</td>\n",
       "      <td>12474.000000</td>\n",
       "      <td>12474.000000</td>\n",
       "      <td>12474.000000</td>\n",
       "      <td>12474.000000</td>\n",
       "    </tr>\n",
       "    <tr>\n",
       "      <th>mean</th>\n",
       "      <td>39.000561</td>\n",
       "      <td>0.779622</td>\n",
       "      <td>0.495310</td>\n",
       "      <td>2.622415</td>\n",
       "      <td>1.452862</td>\n",
       "      <td>2.503447</td>\n",
       "      <td>7.611432</td>\n",
       "      <td>7.267917</td>\n",
       "      <td>47.255491</td>\n",
       "      <td>1.207783</td>\n",
       "      <td>0.001360</td>\n",
       "      <td>17.649947</td>\n",
       "      <td>1405.698204</td>\n",
       "      <td>30269.132251</td>\n",
       "      <td>13.323986</td>\n",
       "    </tr>\n",
       "    <tr>\n",
       "      <th>std</th>\n",
       "      <td>10.161728</td>\n",
       "      <td>0.414518</td>\n",
       "      <td>0.498251</td>\n",
       "      <td>2.089775</td>\n",
       "      <td>1.752797</td>\n",
       "      <td>1.758177</td>\n",
       "      <td>10.335732</td>\n",
       "      <td>12.015619</td>\n",
       "      <td>42.326908</td>\n",
       "      <td>0.903702</td>\n",
       "      <td>0.001053</td>\n",
       "      <td>4.500118</td>\n",
       "      <td>204.058889</td>\n",
       "      <td>20137.492244</td>\n",
       "      <td>7.118360</td>\n",
       "    </tr>\n",
       "    <tr>\n",
       "      <th>min</th>\n",
       "      <td>20.000000</td>\n",
       "      <td>0.000000</td>\n",
       "      <td>0.000000</td>\n",
       "      <td>0.000000</td>\n",
       "      <td>0.000000</td>\n",
       "      <td>0.000000</td>\n",
       "      <td>-30.000000</td>\n",
       "      <td>-25.000000</td>\n",
       "      <td>-95.000000</td>\n",
       "      <td>0.000000</td>\n",
       "      <td>0.000003</td>\n",
       "      <td>5.005645</td>\n",
       "      <td>760.270925</td>\n",
       "      <td>1972.757821</td>\n",
       "      <td>0.000000</td>\n",
       "    </tr>\n",
       "    <tr>\n",
       "      <th>25%</th>\n",
       "      <td>31.000000</td>\n",
       "      <td>1.000000</td>\n",
       "      <td>0.000000</td>\n",
       "      <td>0.000000</td>\n",
       "      <td>0.000000</td>\n",
       "      <td>1.000000</td>\n",
       "      <td>0.000000</td>\n",
       "      <td>0.000000</td>\n",
       "      <td>25.000000</td>\n",
       "      <td>0.583333</td>\n",
       "      <td>0.000356</td>\n",
       "      <td>16.104570</td>\n",
       "      <td>1239.395000</td>\n",
       "      <td>11414.578704</td>\n",
       "      <td>7.155837</td>\n",
       "    </tr>\n",
       "    <tr>\n",
       "      <th>50%</th>\n",
       "      <td>38.000000</td>\n",
       "      <td>1.000000</td>\n",
       "      <td>0.000000</td>\n",
       "      <td>3.000000</td>\n",
       "      <td>0.000000</td>\n",
       "      <td>2.000000</td>\n",
       "      <td>7.500000</td>\n",
       "      <td>5.000000</td>\n",
       "      <td>70.000000</td>\n",
       "      <td>1.000000</td>\n",
       "      <td>0.001244</td>\n",
       "      <td>18.474462</td>\n",
       "      <td>1441.499009</td>\n",
       "      <td>31674.311518</td>\n",
       "      <td>15.566667</td>\n",
       "    </tr>\n",
       "    <tr>\n",
       "      <th>75%</th>\n",
       "      <td>48.000000</td>\n",
       "      <td>1.000000</td>\n",
       "      <td>1.000000</td>\n",
       "      <td>5.000000</td>\n",
       "      <td>3.000000</td>\n",
       "      <td>4.000000</td>\n",
       "      <td>12.500000</td>\n",
       "      <td>15.000000</td>\n",
       "      <td>70.000000</td>\n",
       "      <td>1.583333</td>\n",
       "      <td>0.002266</td>\n",
       "      <td>21.491935</td>\n",
       "      <td>1529.053860</td>\n",
       "      <td>47750.879662</td>\n",
       "      <td>19.800000</td>\n",
       "    </tr>\n",
       "    <tr>\n",
       "      <th>max</th>\n",
       "      <td>59.000000</td>\n",
       "      <td>1.000000</td>\n",
       "      <td>1.000000</td>\n",
       "      <td>5.000000</td>\n",
       "      <td>5.000000</td>\n",
       "      <td>5.000000</td>\n",
       "      <td>30.000000</td>\n",
       "      <td>25.000000</td>\n",
       "      <td>95.000000</td>\n",
       "      <td>8.000000</td>\n",
       "      <td>0.004298</td>\n",
       "      <td>22.879032</td>\n",
       "      <td>1688.480806</td>\n",
       "      <td>61173.904769</td>\n",
       "      <td>21.666667</td>\n",
       "    </tr>\n",
       "  </tbody>\n",
       "</table>\n",
       "</div>"
      ],
      "text/plain": [
       "                age       married     with_kids  work_home_days_current  \\\n",
       "count  12474.000000  12474.000000  12474.000000            12474.000000   \n",
       "mean      39.000561      0.779622      0.495310                2.622415   \n",
       "std       10.161728      0.414518      0.498251                2.089775   \n",
       "min       20.000000      0.000000      0.000000                0.000000   \n",
       "25%       31.000000      1.000000      0.000000                0.000000   \n",
       "50%       38.000000      1.000000      0.000000                3.000000   \n",
       "75%       48.000000      1.000000      1.000000                5.000000   \n",
       "max       59.000000      1.000000      1.000000                5.000000   \n",
       "\n",
       "       work_home_days_employer  work_home_days_employee     WFH_value  \\\n",
       "count             12474.000000             12474.000000  12474.000000   \n",
       "mean                  1.452862                 2.503447      7.611432   \n",
       "std                   1.752797                 1.758177     10.335732   \n",
       "min                   0.000000                 0.000000    -30.000000   \n",
       "25%                   0.000000                 1.000000      0.000000   \n",
       "50%                   0.000000                 2.000000      7.500000   \n",
       "75%                   3.000000                 4.000000     12.500000   \n",
       "max                   5.000000                 5.000000     30.000000   \n",
       "\n",
       "       WFH_expectation  WFH_perception  commute_time_hs     deaths_pc  \\\n",
       "count     12474.000000    12474.000000     12474.000000  12474.000000   \n",
       "mean          7.267917       47.255491         1.207783      0.001360   \n",
       "std          12.015619       42.326908         0.903702      0.001053   \n",
       "min         -25.000000      -95.000000         0.000000      0.000003   \n",
       "25%           0.000000       25.000000         0.583333      0.000356   \n",
       "50%           5.000000       70.000000         1.000000      0.001244   \n",
       "75%          15.000000       70.000000         1.583333      0.002266   \n",
       "max          25.000000       95.000000         8.000000      0.004298   \n",
       "\n",
       "                LSI       oxf_LSI   GDP_pc_2019          mask  \n",
       "count  12474.000000  12474.000000  12474.000000  12474.000000  \n",
       "mean      17.649947   1405.698204  30269.132251     13.323986  \n",
       "std        4.500118    204.058889  20137.492244      7.118360  \n",
       "min        5.005645    760.270925   1972.757821      0.000000  \n",
       "25%       16.104570   1239.395000  11414.578704      7.155837  \n",
       "50%       18.474462   1441.499009  31674.311518     15.566667  \n",
       "75%       21.491935   1529.053860  47750.879662     19.800000  \n",
       "max       22.879032   1688.480806  61173.904769     21.666667  "
      ]
     },
     "execution_count": 39,
     "metadata": {},
     "output_type": "execute_result"
    }
   ],
   "source": [
    "df.describe()"
   ]
  },
  {
   "cell_type": "code",
   "execution_count": 40,
   "id": "41c4711f-225a-4275-8d4c-117cdbbcbac6",
   "metadata": {},
   "outputs": [
    {
     "data": {
      "text/html": [
       "<div>\n",
       "<style scoped>\n",
       "    .dataframe tbody tr th:only-of-type {\n",
       "        vertical-align: middle;\n",
       "    }\n",
       "\n",
       "    .dataframe tbody tr th {\n",
       "        vertical-align: top;\n",
       "    }\n",
       "\n",
       "    .dataframe thead th {\n",
       "        text-align: right;\n",
       "    }\n",
       "</style>\n",
       "<table border=\"1\" class=\"dataframe\">\n",
       "  <thead>\n",
       "    <tr style=\"text-align: right;\">\n",
       "      <th></th>\n",
       "      <th>age</th>\n",
       "      <th>married</th>\n",
       "      <th>with_kids</th>\n",
       "      <th>work_home_days_current</th>\n",
       "      <th>work_home_days_employer</th>\n",
       "      <th>work_home_days_employee</th>\n",
       "      <th>WFH_value</th>\n",
       "      <th>WFH_expectation</th>\n",
       "      <th>WFH_perception</th>\n",
       "      <th>commute_time_hs</th>\n",
       "      <th>deaths_pc</th>\n",
       "      <th>LSI</th>\n",
       "      <th>oxf_LSI</th>\n",
       "      <th>GDP_pc_2019</th>\n",
       "      <th>mask</th>\n",
       "    </tr>\n",
       "  </thead>\n",
       "  <tbody>\n",
       "    <tr>\n",
       "      <th>age</th>\n",
       "      <td>1.000000</td>\n",
       "      <td>0.235740</td>\n",
       "      <td>-0.166518</td>\n",
       "      <td>0.019212</td>\n",
       "      <td>-0.035434</td>\n",
       "      <td>-0.001034</td>\n",
       "      <td>-0.090054</td>\n",
       "      <td>-0.089833</td>\n",
       "      <td>-0.070701</td>\n",
       "      <td>-0.015511</td>\n",
       "      <td>0.030877</td>\n",
       "      <td>-0.078248</td>\n",
       "      <td>-0.071523</td>\n",
       "      <td>0.164207</td>\n",
       "      <td>-0.037017</td>\n",
       "    </tr>\n",
       "    <tr>\n",
       "      <th>married</th>\n",
       "      <td>0.235740</td>\n",
       "      <td>1.000000</td>\n",
       "      <td>0.343778</td>\n",
       "      <td>-0.023877</td>\n",
       "      <td>-0.009719</td>\n",
       "      <td>-0.022114</td>\n",
       "      <td>-0.009145</td>\n",
       "      <td>-0.016588</td>\n",
       "      <td>-0.023760</td>\n",
       "      <td>0.009073</td>\n",
       "      <td>-0.099541</td>\n",
       "      <td>-0.080065</td>\n",
       "      <td>-0.052362</td>\n",
       "      <td>-0.016695</td>\n",
       "      <td>0.043107</td>\n",
       "    </tr>\n",
       "    <tr>\n",
       "      <th>with_kids</th>\n",
       "      <td>-0.166518</td>\n",
       "      <td>0.343778</td>\n",
       "      <td>1.000000</td>\n",
       "      <td>-0.004511</td>\n",
       "      <td>0.041769</td>\n",
       "      <td>-0.008470</td>\n",
       "      <td>0.057217</td>\n",
       "      <td>0.039608</td>\n",
       "      <td>0.031152</td>\n",
       "      <td>0.031270</td>\n",
       "      <td>-0.105925</td>\n",
       "      <td>0.012638</td>\n",
       "      <td>0.028871</td>\n",
       "      <td>-0.111597</td>\n",
       "      <td>0.070429</td>\n",
       "    </tr>\n",
       "    <tr>\n",
       "      <th>work_home_days_current</th>\n",
       "      <td>0.019212</td>\n",
       "      <td>-0.023877</td>\n",
       "      <td>-0.004511</td>\n",
       "      <td>1.000000</td>\n",
       "      <td>0.433790</td>\n",
       "      <td>0.499916</td>\n",
       "      <td>0.137198</td>\n",
       "      <td>0.221209</td>\n",
       "      <td>0.167721</td>\n",
       "      <td>0.089439</td>\n",
       "      <td>-0.017226</td>\n",
       "      <td>0.098730</td>\n",
       "      <td>0.076224</td>\n",
       "      <td>0.117000</td>\n",
       "      <td>0.069425</td>\n",
       "    </tr>\n",
       "    <tr>\n",
       "      <th>work_home_days_employer</th>\n",
       "      <td>-0.035434</td>\n",
       "      <td>-0.009719</td>\n",
       "      <td>0.041769</td>\n",
       "      <td>0.433790</td>\n",
       "      <td>1.000000</td>\n",
       "      <td>0.496249</td>\n",
       "      <td>0.146351</td>\n",
       "      <td>0.212086</td>\n",
       "      <td>0.173901</td>\n",
       "      <td>0.048931</td>\n",
       "      <td>-0.012693</td>\n",
       "      <td>0.093416</td>\n",
       "      <td>0.062746</td>\n",
       "      <td>0.051316</td>\n",
       "      <td>0.065067</td>\n",
       "    </tr>\n",
       "    <tr>\n",
       "      <th>work_home_days_employee</th>\n",
       "      <td>-0.001034</td>\n",
       "      <td>-0.022114</td>\n",
       "      <td>-0.008470</td>\n",
       "      <td>0.499916</td>\n",
       "      <td>0.496249</td>\n",
       "      <td>1.000000</td>\n",
       "      <td>0.282649</td>\n",
       "      <td>0.356367</td>\n",
       "      <td>0.261954</td>\n",
       "      <td>0.105438</td>\n",
       "      <td>0.051174</td>\n",
       "      <td>0.064978</td>\n",
       "      <td>0.017641</td>\n",
       "      <td>0.094111</td>\n",
       "      <td>0.078577</td>\n",
       "    </tr>\n",
       "    <tr>\n",
       "      <th>WFH_value</th>\n",
       "      <td>-0.090054</td>\n",
       "      <td>-0.009145</td>\n",
       "      <td>0.057217</td>\n",
       "      <td>0.137198</td>\n",
       "      <td>0.146351</td>\n",
       "      <td>0.282649</td>\n",
       "      <td>1.000000</td>\n",
       "      <td>0.339381</td>\n",
       "      <td>0.272978</td>\n",
       "      <td>0.058885</td>\n",
       "      <td>0.053995</td>\n",
       "      <td>0.067798</td>\n",
       "      <td>0.076567</td>\n",
       "      <td>-0.064655</td>\n",
       "      <td>0.066862</td>\n",
       "    </tr>\n",
       "    <tr>\n",
       "      <th>WFH_expectation</th>\n",
       "      <td>-0.089833</td>\n",
       "      <td>-0.016588</td>\n",
       "      <td>0.039608</td>\n",
       "      <td>0.221209</td>\n",
       "      <td>0.212086</td>\n",
       "      <td>0.356367</td>\n",
       "      <td>0.339381</td>\n",
       "      <td>1.000000</td>\n",
       "      <td>0.476761</td>\n",
       "      <td>0.114433</td>\n",
       "      <td>0.023870</td>\n",
       "      <td>0.073299</td>\n",
       "      <td>0.076404</td>\n",
       "      <td>0.006743</td>\n",
       "      <td>0.074056</td>\n",
       "    </tr>\n",
       "    <tr>\n",
       "      <th>WFH_perception</th>\n",
       "      <td>-0.070701</td>\n",
       "      <td>-0.023760</td>\n",
       "      <td>0.031152</td>\n",
       "      <td>0.167721</td>\n",
       "      <td>0.173901</td>\n",
       "      <td>0.261954</td>\n",
       "      <td>0.272978</td>\n",
       "      <td>0.476761</td>\n",
       "      <td>1.000000</td>\n",
       "      <td>0.102582</td>\n",
       "      <td>-0.034730</td>\n",
       "      <td>0.056873</td>\n",
       "      <td>0.056559</td>\n",
       "      <td>0.050817</td>\n",
       "      <td>0.067476</td>\n",
       "    </tr>\n",
       "    <tr>\n",
       "      <th>commute_time_hs</th>\n",
       "      <td>-0.015511</td>\n",
       "      <td>0.009073</td>\n",
       "      <td>0.031270</td>\n",
       "      <td>0.089439</td>\n",
       "      <td>0.048931</td>\n",
       "      <td>0.105438</td>\n",
       "      <td>0.058885</td>\n",
       "      <td>0.114433</td>\n",
       "      <td>0.102582</td>\n",
       "      <td>1.000000</td>\n",
       "      <td>-0.126996</td>\n",
       "      <td>0.006663</td>\n",
       "      <td>-0.008352</td>\n",
       "      <td>-0.027208</td>\n",
       "      <td>0.054576</td>\n",
       "    </tr>\n",
       "    <tr>\n",
       "      <th>deaths_pc</th>\n",
       "      <td>0.030877</td>\n",
       "      <td>-0.099541</td>\n",
       "      <td>-0.105925</td>\n",
       "      <td>-0.017226</td>\n",
       "      <td>-0.012693</td>\n",
       "      <td>0.051174</td>\n",
       "      <td>0.053995</td>\n",
       "      <td>0.023870</td>\n",
       "      <td>-0.034730</td>\n",
       "      <td>-0.126996</td>\n",
       "      <td>1.000000</td>\n",
       "      <td>0.088445</td>\n",
       "      <td>0.036645</td>\n",
       "      <td>-0.126304</td>\n",
       "      <td>-0.056405</td>\n",
       "    </tr>\n",
       "    <tr>\n",
       "      <th>LSI</th>\n",
       "      <td>-0.078248</td>\n",
       "      <td>-0.080065</td>\n",
       "      <td>0.012638</td>\n",
       "      <td>0.098730</td>\n",
       "      <td>0.093416</td>\n",
       "      <td>0.064978</td>\n",
       "      <td>0.067798</td>\n",
       "      <td>0.073299</td>\n",
       "      <td>0.056873</td>\n",
       "      <td>0.006663</td>\n",
       "      <td>0.088445</td>\n",
       "      <td>1.000000</td>\n",
       "      <td>0.832717</td>\n",
       "      <td>-0.126686</td>\n",
       "      <td>0.511236</td>\n",
       "    </tr>\n",
       "    <tr>\n",
       "      <th>oxf_LSI</th>\n",
       "      <td>-0.071523</td>\n",
       "      <td>-0.052362</td>\n",
       "      <td>0.028871</td>\n",
       "      <td>0.076224</td>\n",
       "      <td>0.062746</td>\n",
       "      <td>0.017641</td>\n",
       "      <td>0.076567</td>\n",
       "      <td>0.076404</td>\n",
       "      <td>0.056559</td>\n",
       "      <td>-0.008352</td>\n",
       "      <td>0.036645</td>\n",
       "      <td>0.832717</td>\n",
       "      <td>1.000000</td>\n",
       "      <td>-0.255518</td>\n",
       "      <td>0.350855</td>\n",
       "    </tr>\n",
       "    <tr>\n",
       "      <th>GDP_pc_2019</th>\n",
       "      <td>0.164207</td>\n",
       "      <td>-0.016695</td>\n",
       "      <td>-0.111597</td>\n",
       "      <td>0.117000</td>\n",
       "      <td>0.051316</td>\n",
       "      <td>0.094111</td>\n",
       "      <td>-0.064655</td>\n",
       "      <td>0.006743</td>\n",
       "      <td>0.050817</td>\n",
       "      <td>-0.027208</td>\n",
       "      <td>-0.126304</td>\n",
       "      <td>-0.126686</td>\n",
       "      <td>-0.255518</td>\n",
       "      <td>1.000000</td>\n",
       "      <td>-0.069471</td>\n",
       "    </tr>\n",
       "    <tr>\n",
       "      <th>mask</th>\n",
       "      <td>-0.037017</td>\n",
       "      <td>0.043107</td>\n",
       "      <td>0.070429</td>\n",
       "      <td>0.069425</td>\n",
       "      <td>0.065067</td>\n",
       "      <td>0.078577</td>\n",
       "      <td>0.066862</td>\n",
       "      <td>0.074056</td>\n",
       "      <td>0.067476</td>\n",
       "      <td>0.054576</td>\n",
       "      <td>-0.056405</td>\n",
       "      <td>0.511236</td>\n",
       "      <td>0.350855</td>\n",
       "      <td>-0.069471</td>\n",
       "      <td>1.000000</td>\n",
       "    </tr>\n",
       "  </tbody>\n",
       "</table>\n",
       "</div>"
      ],
      "text/plain": [
       "                              age   married  with_kids  \\\n",
       "age                      1.000000  0.235740  -0.166518   \n",
       "married                  0.235740  1.000000   0.343778   \n",
       "with_kids               -0.166518  0.343778   1.000000   \n",
       "work_home_days_current   0.019212 -0.023877  -0.004511   \n",
       "work_home_days_employer -0.035434 -0.009719   0.041769   \n",
       "work_home_days_employee -0.001034 -0.022114  -0.008470   \n",
       "WFH_value               -0.090054 -0.009145   0.057217   \n",
       "WFH_expectation         -0.089833 -0.016588   0.039608   \n",
       "WFH_perception          -0.070701 -0.023760   0.031152   \n",
       "commute_time_hs         -0.015511  0.009073   0.031270   \n",
       "deaths_pc                0.030877 -0.099541  -0.105925   \n",
       "LSI                     -0.078248 -0.080065   0.012638   \n",
       "oxf_LSI                 -0.071523 -0.052362   0.028871   \n",
       "GDP_pc_2019              0.164207 -0.016695  -0.111597   \n",
       "mask                    -0.037017  0.043107   0.070429   \n",
       "\n",
       "                         work_home_days_current  work_home_days_employer  \\\n",
       "age                                    0.019212                -0.035434   \n",
       "married                               -0.023877                -0.009719   \n",
       "with_kids                             -0.004511                 0.041769   \n",
       "work_home_days_current                 1.000000                 0.433790   \n",
       "work_home_days_employer                0.433790                 1.000000   \n",
       "work_home_days_employee                0.499916                 0.496249   \n",
       "WFH_value                              0.137198                 0.146351   \n",
       "WFH_expectation                        0.221209                 0.212086   \n",
       "WFH_perception                         0.167721                 0.173901   \n",
       "commute_time_hs                        0.089439                 0.048931   \n",
       "deaths_pc                             -0.017226                -0.012693   \n",
       "LSI                                    0.098730                 0.093416   \n",
       "oxf_LSI                                0.076224                 0.062746   \n",
       "GDP_pc_2019                            0.117000                 0.051316   \n",
       "mask                                   0.069425                 0.065067   \n",
       "\n",
       "                         work_home_days_employee  WFH_value  WFH_expectation  \\\n",
       "age                                    -0.001034  -0.090054        -0.089833   \n",
       "married                                -0.022114  -0.009145        -0.016588   \n",
       "with_kids                              -0.008470   0.057217         0.039608   \n",
       "work_home_days_current                  0.499916   0.137198         0.221209   \n",
       "work_home_days_employer                 0.496249   0.146351         0.212086   \n",
       "work_home_days_employee                 1.000000   0.282649         0.356367   \n",
       "WFH_value                               0.282649   1.000000         0.339381   \n",
       "WFH_expectation                         0.356367   0.339381         1.000000   \n",
       "WFH_perception                          0.261954   0.272978         0.476761   \n",
       "commute_time_hs                         0.105438   0.058885         0.114433   \n",
       "deaths_pc                               0.051174   0.053995         0.023870   \n",
       "LSI                                     0.064978   0.067798         0.073299   \n",
       "oxf_LSI                                 0.017641   0.076567         0.076404   \n",
       "GDP_pc_2019                             0.094111  -0.064655         0.006743   \n",
       "mask                                    0.078577   0.066862         0.074056   \n",
       "\n",
       "                         WFH_perception  commute_time_hs  deaths_pc       LSI  \\\n",
       "age                           -0.070701        -0.015511   0.030877 -0.078248   \n",
       "married                       -0.023760         0.009073  -0.099541 -0.080065   \n",
       "with_kids                      0.031152         0.031270  -0.105925  0.012638   \n",
       "work_home_days_current         0.167721         0.089439  -0.017226  0.098730   \n",
       "work_home_days_employer        0.173901         0.048931  -0.012693  0.093416   \n",
       "work_home_days_employee        0.261954         0.105438   0.051174  0.064978   \n",
       "WFH_value                      0.272978         0.058885   0.053995  0.067798   \n",
       "WFH_expectation                0.476761         0.114433   0.023870  0.073299   \n",
       "WFH_perception                 1.000000         0.102582  -0.034730  0.056873   \n",
       "commute_time_hs                0.102582         1.000000  -0.126996  0.006663   \n",
       "deaths_pc                     -0.034730        -0.126996   1.000000  0.088445   \n",
       "LSI                            0.056873         0.006663   0.088445  1.000000   \n",
       "oxf_LSI                        0.056559        -0.008352   0.036645  0.832717   \n",
       "GDP_pc_2019                    0.050817        -0.027208  -0.126304 -0.126686   \n",
       "mask                           0.067476         0.054576  -0.056405  0.511236   \n",
       "\n",
       "                          oxf_LSI  GDP_pc_2019      mask  \n",
       "age                     -0.071523     0.164207 -0.037017  \n",
       "married                 -0.052362    -0.016695  0.043107  \n",
       "with_kids                0.028871    -0.111597  0.070429  \n",
       "work_home_days_current   0.076224     0.117000  0.069425  \n",
       "work_home_days_employer  0.062746     0.051316  0.065067  \n",
       "work_home_days_employee  0.017641     0.094111  0.078577  \n",
       "WFH_value                0.076567    -0.064655  0.066862  \n",
       "WFH_expectation          0.076404     0.006743  0.074056  \n",
       "WFH_perception           0.056559     0.050817  0.067476  \n",
       "commute_time_hs         -0.008352    -0.027208  0.054576  \n",
       "deaths_pc                0.036645    -0.126304 -0.056405  \n",
       "LSI                      0.832717    -0.126686  0.511236  \n",
       "oxf_LSI                  1.000000    -0.255518  0.350855  \n",
       "GDP_pc_2019             -0.255518     1.000000 -0.069471  \n",
       "mask                     0.350855    -0.069471  1.000000  "
      ]
     },
     "execution_count": 40,
     "metadata": {},
     "output_type": "execute_result"
    }
   ],
   "source": [
    "df.corr()"
   ]
  },
  {
   "cell_type": "markdown",
   "id": "23bf405a-3bc4-4916-ac3b-a47edfe71e4d",
   "metadata": {},
   "source": [
    "The cleansed dataset contains 12,474 entries with 20 variables. There are no remaining null values or redundant variables.\n",
    "\n",
    "Save clean data to a new excel document:"
   ]
  },
  {
   "cell_type": "code",
   "execution_count": 41,
   "id": "81538b03-2fae-4c5e-9f7a-09fe931aedfa",
   "metadata": {},
   "outputs": [],
   "source": [
    "df.to_excel('G-SWA Clean.xlsx', index=False)"
   ]
  },
  {
   "cell_type": "code",
   "execution_count": null,
   "id": "9f878582-b55b-449c-a08e-40b3846f7e2b",
   "metadata": {},
   "outputs": [],
   "source": []
  }
 ],
 "metadata": {
  "kernelspec": {
   "display_name": "Python 3 (ipykernel)",
   "language": "python",
   "name": "python3"
  },
  "language_info": {
   "codemirror_mode": {
    "name": "ipython",
    "version": 3
   },
   "file_extension": ".py",
   "mimetype": "text/x-python",
   "name": "python",
   "nbconvert_exporter": "python",
   "pygments_lexer": "ipython3",
   "version": "3.9.13"
  }
 },
 "nbformat": 4,
 "nbformat_minor": 5
}
