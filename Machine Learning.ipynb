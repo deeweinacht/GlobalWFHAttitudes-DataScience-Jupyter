{
 "cells": [
  {
   "cell_type": "markdown",
   "id": "c6ce74ca-dc8a-4b20-9e5e-cfc03efd16dd",
   "metadata": {
    "tags": []
   },
   "source": [
    "**This Notebook applies supervised machine learning to a global work-from-home survey dataset**\n",
    "\n",
    "The prediction target is a response to an employee being required to return to working from their worksite after the end of the pandemic. The survey options were to comply, to look for a job to work from home, or to quit their job. The goal is to generate a model that can predict which of these three options a particular employee will choose.\n",
    "\n",
    "Dee Weinacht (c) 2023\n",
    "\n",
    "Data sourced from the Global Survey of Working Arrangements (G-SWA), used under the Creative Commons Attribution 4.0 International License:\n",
    "Aksoy, Cevat Giray, Jose Maria Barrero, Nicholas Bloom, Steven J. Davis, Mathias Dolls and Pablo Zarate, 2022. “Working from Home Around the World,” Brookings Papers on Economic Activity.\n",
    "https://wfhresearch.com/\n",
    "\n",
    "---\n",
    "\n",
    "## Initial Setup"
   ]
  },
  {
   "cell_type": "code",
   "execution_count": 1,
   "id": "62cb64c3-8d95-408d-8f92-de0aa3a61f8c",
   "metadata": {},
   "outputs": [],
   "source": [
    "import pandas as pd\n",
    "import numpy as np"
   ]
  },
  {
   "cell_type": "code",
   "execution_count": 2,
   "id": "b39e0fca-3725-415b-8cea-bf75caf5c647",
   "metadata": {},
   "outputs": [],
   "source": [
    "# original_data = pd.read_excel('G-SWA.xlsx')\n",
    "clean_data = pd.read_excel('G-SWA Clean.xlsx')"
   ]
  },
  {
   "cell_type": "markdown",
   "id": "ce7a6e39-a41f-4bb7-a7bb-e30d088aee64",
   "metadata": {},
   "source": [
    "## Data Wrangling\n",
    "\n",
    "### Prepare data types for machine learning\n",
    "\n",
    "Most machine learning algorithms require numeric datatypes.\n",
    "\n",
    "List columns with string/object datatype:"
   ]
  },
  {
   "cell_type": "code",
   "execution_count": 3,
   "id": "e182e81c-fe89-412b-ae73-5f2d85b8b738",
   "metadata": {},
   "outputs": [
    {
     "name": "stdout",
     "output_type": "stream",
     "text": [
      "original_country: \n",
      "['Australia' 'Austria' 'Brazil' 'Canada' 'China' 'France' 'Germany'\n",
      " 'Greece' 'Hungary' 'India' 'Italy' 'Japan' 'Korea' 'Malaysia'\n",
      " 'Netherlands' 'Poland' 'Russia' 'Singapore' 'Spain' 'Sweden' 'Taiwan'\n",
      " 'Turkey' 'UK' 'USA' 'Ukraine']\n",
      "\n",
      "gender: \n",
      "['Female' 'Male' 'Other/Prefer not to say']\n",
      "\n",
      "education: \n",
      "['Graduate' 'Tertiary' 'Secondary']\n",
      "\n",
      "industry_job: \n",
      "['Education' 'Retail Trade' 'Information'\n",
      " 'Professional & Business Services' 'Other' 'Construction'\n",
      " 'Wholesale Trade' 'Health Care & Social Assistance' 'Real Estate'\n",
      " 'Finance or Insurance' 'Mining' 'Government' 'Manufacturing'\n",
      " 'Transportation or Warehousing' 'Hospitality & Food Services' 'Utilities'\n",
      " 'Agriculture' 'Arts & Entertainment']\n",
      "\n",
      "return_office: \n",
      "[' Look for a job to WFH 1-2 days' 'Quit job'\n",
      " 'Comply and return to worksite']\n",
      "\n"
     ]
    }
   ],
   "source": [
    "for col in clean_data.columns:\n",
    "    if clean_data[col].dtype == object:\n",
    "        print(f'{col}: \\n{clean_data[col].unique()}\\n')"
   ]
  },
  {
   "cell_type": "markdown",
   "id": "ad105087-778f-425e-be0f-3e2e1397a57b",
   "metadata": {},
   "source": [
    "'education' is an ordinal categorical datatype and is encoded directly as a numeric datatype:"
   ]
  },
  {
   "cell_type": "code",
   "execution_count": 4,
   "id": "22ea5e80-396a-4905-8a83-82986ee37137",
   "metadata": {},
   "outputs": [],
   "source": [
    "education_dic = {'Secondary': 0, 'Tertiary': 1, 'Graduate': 2}\n",
    "clean_data['education'] = clean_data['education'].replace(education_dic)"
   ]
  },
  {
   "cell_type": "markdown",
   "id": "368f417d-45c3-4428-bba9-e435161ef9a5",
   "metadata": {},
   "source": [
    "'gender','industry_job', and 'country' are nominal categorical data and are encoded using dummy variables:"
   ]
  },
  {
   "cell_type": "code",
   "execution_count": 5,
   "id": "40d6a3e4-5a4a-4476-b401-a2cf3b785e66",
   "metadata": {},
   "outputs": [],
   "source": [
    "clean_data['gender'] = clean_data['gender'].str.lower()\n",
    "clean_data['country'] = clean_data['original_country'].str.lower()\n",
    "clean_data.drop(labels='original_country', axis=1, inplace=True)\n",
    "clean_data['industry_job'] = clean_data['industry_job'].str.lower()\n",
    "clean_data['industry_job'] = clean_data['industry_job'].str.replace(' ', '_')\n",
    "clean_data  = pd.get_dummies(data=clean_data, columns=['gender', 'industry_job', 'country'], drop_first=True, dtype=np.int64)"
   ]
  },
  {
   "cell_type": "code",
   "execution_count": 6,
   "id": "76db05f2-a63a-4e31-ab88-f4518d9c73b1",
   "metadata": {},
   "outputs": [
    {
     "name": "stdout",
     "output_type": "stream",
     "text": [
      "return_office: \n",
      "[' Look for a job to WFH 1-2 days' 'Quit job'\n",
      " 'Comply and return to worksite']\n",
      "\n"
     ]
    }
   ],
   "source": [
    "for col in clean_data.columns:\n",
    "    if clean_data[col].dtype == object:\n",
    "        print(f'{col}: \\n{clean_data[col].unique()}\\n')"
   ]
  },
  {
   "cell_type": "markdown",
   "id": "ebc09621-77b9-4fb6-8480-0f28762e4b3c",
   "metadata": {},
   "source": [
    "The target variable is the only remaining object/string datatype, so the dataset is ready for use in a classifier.\n",
    "\n",
    "Place target variable at the start of the dataframe:"
   ]
  },
  {
   "cell_type": "code",
   "execution_count": 7,
   "id": "27e338d9-ee51-47b2-8a8a-73506704233d",
   "metadata": {},
   "outputs": [],
   "source": [
    "clean_data.insert(loc=0, column='return_office', value=clean_data.pop('return_office'))"
   ]
  },
  {
   "cell_type": "code",
   "execution_count": 8,
   "id": "ef79c25c-05c3-4469-bcfa-921443b326d9",
   "metadata": {},
   "outputs": [],
   "source": [
    "clean_data['return_office'] = clean_data['return_office'].apply(lambda x : x.strip())"
   ]
  },
  {
   "cell_type": "code",
   "execution_count": 9,
   "id": "d7746c04-62b2-47d0-80ff-3f735c8a12c2",
   "metadata": {},
   "outputs": [
    {
     "data": {
      "text/plain": [
       "Comply and return to worksite     9282\n",
       "Look for a job to WFH 1-2 days    2875\n",
       "Quit job                           317\n",
       "Name: return_office, dtype: int64"
      ]
     },
     "execution_count": 9,
     "metadata": {},
     "output_type": "execute_result"
    }
   ],
   "source": [
    "clean_data['return_office'].value_counts()"
   ]
  },
  {
   "cell_type": "markdown",
   "id": "b689ea73-b967-4331-bd83-fd6fa790411e",
   "metadata": {},
   "source": [
    "The finalized machine learning dataset:"
   ]
  },
  {
   "cell_type": "code",
   "execution_count": 10,
   "id": "24b677de-b673-417f-9f31-bea430f42d4c",
   "metadata": {},
   "outputs": [
    {
     "name": "stdout",
     "output_type": "stream",
     "text": [
      "<class 'pandas.core.frame.DataFrame'>\n",
      "RangeIndex: 12474 entries, 0 to 12473\n",
      "Data columns (total 60 columns):\n",
      " #   Column                                         Non-Null Count  Dtype  \n",
      "---  ------                                         --------------  -----  \n",
      " 0   return_office                                  12474 non-null  object \n",
      " 1   education                                      12474 non-null  int64  \n",
      " 2   age                                            12474 non-null  int64  \n",
      " 3   married                                        12474 non-null  int64  \n",
      " 4   with_kids                                      12474 non-null  float64\n",
      " 5   work_home_days_current                         12474 non-null  int64  \n",
      " 6   work_home_days_employer                        12474 non-null  int64  \n",
      " 7   work_home_days_employee                        12474 non-null  int64  \n",
      " 8   WFH_value                                      12474 non-null  float64\n",
      " 9   WFH_expectation                                12474 non-null  int64  \n",
      " 10  WFH_perception                                 12474 non-null  int64  \n",
      " 11  commute_time_hs                                12474 non-null  float64\n",
      " 12  deaths_pc                                      12474 non-null  float64\n",
      " 13  LSI                                            12474 non-null  float64\n",
      " 14  oxf_LSI                                        12474 non-null  float64\n",
      " 15  GDP_pc_2019                                    12474 non-null  float64\n",
      " 16  mask                                           12474 non-null  float64\n",
      " 17  gender_male                                    12474 non-null  int64  \n",
      " 18  gender_other/prefer not to say                 12474 non-null  int64  \n",
      " 19  industry_job_arts_&_entertainment              12474 non-null  int64  \n",
      " 20  industry_job_construction                      12474 non-null  int64  \n",
      " 21  industry_job_education                         12474 non-null  int64  \n",
      " 22  industry_job_finance_or_insurance              12474 non-null  int64  \n",
      " 23  industry_job_government                        12474 non-null  int64  \n",
      " 24  industry_job_health_care_&_social_assistance   12474 non-null  int64  \n",
      " 25  industry_job_hospitality_&_food_services       12474 non-null  int64  \n",
      " 26  industry_job_information                       12474 non-null  int64  \n",
      " 27  industry_job_manufacturing                     12474 non-null  int64  \n",
      " 28  industry_job_mining                            12474 non-null  int64  \n",
      " 29  industry_job_other                             12474 non-null  int64  \n",
      " 30  industry_job_professional_&_business_services  12474 non-null  int64  \n",
      " 31  industry_job_real_estate                       12474 non-null  int64  \n",
      " 32  industry_job_retail_trade                      12474 non-null  int64  \n",
      " 33  industry_job_transportation_or_warehousing     12474 non-null  int64  \n",
      " 34  industry_job_utilities                         12474 non-null  int64  \n",
      " 35  industry_job_wholesale_trade                   12474 non-null  int64  \n",
      " 36  country_austria                                12474 non-null  int64  \n",
      " 37  country_brazil                                 12474 non-null  int64  \n",
      " 38  country_canada                                 12474 non-null  int64  \n",
      " 39  country_china                                  12474 non-null  int64  \n",
      " 40  country_france                                 12474 non-null  int64  \n",
      " 41  country_germany                                12474 non-null  int64  \n",
      " 42  country_greece                                 12474 non-null  int64  \n",
      " 43  country_hungary                                12474 non-null  int64  \n",
      " 44  country_india                                  12474 non-null  int64  \n",
      " 45  country_italy                                  12474 non-null  int64  \n",
      " 46  country_japan                                  12474 non-null  int64  \n",
      " 47  country_korea                                  12474 non-null  int64  \n",
      " 48  country_malaysia                               12474 non-null  int64  \n",
      " 49  country_netherlands                            12474 non-null  int64  \n",
      " 50  country_poland                                 12474 non-null  int64  \n",
      " 51  country_russia                                 12474 non-null  int64  \n",
      " 52  country_singapore                              12474 non-null  int64  \n",
      " 53  country_spain                                  12474 non-null  int64  \n",
      " 54  country_sweden                                 12474 non-null  int64  \n",
      " 55  country_taiwan                                 12474 non-null  int64  \n",
      " 56  country_turkey                                 12474 non-null  int64  \n",
      " 57  country_uk                                     12474 non-null  int64  \n",
      " 58  country_ukraine                                12474 non-null  int64  \n",
      " 59  country_usa                                    12474 non-null  int64  \n",
      "dtypes: float64(8), int64(51), object(1)\n",
      "memory usage: 5.7+ MB\n"
     ]
    }
   ],
   "source": [
    "ml_data = clean_data\n",
    "ml_data.info()"
   ]
  },
  {
   "cell_type": "code",
   "execution_count": 11,
   "id": "488ad765-fb1e-46e6-8e59-d6d538df2d10",
   "metadata": {},
   "outputs": [
    {
     "data": {
      "text/html": [
       "<div>\n",
       "<style scoped>\n",
       "    .dataframe tbody tr th:only-of-type {\n",
       "        vertical-align: middle;\n",
       "    }\n",
       "\n",
       "    .dataframe tbody tr th {\n",
       "        vertical-align: top;\n",
       "    }\n",
       "\n",
       "    .dataframe thead th {\n",
       "        text-align: right;\n",
       "    }\n",
       "</style>\n",
       "<table border=\"1\" class=\"dataframe\">\n",
       "  <thead>\n",
       "    <tr style=\"text-align: right;\">\n",
       "      <th></th>\n",
       "      <th>education</th>\n",
       "      <th>age</th>\n",
       "      <th>married</th>\n",
       "      <th>with_kids</th>\n",
       "      <th>work_home_days_current</th>\n",
       "      <th>work_home_days_employer</th>\n",
       "      <th>work_home_days_employee</th>\n",
       "      <th>WFH_value</th>\n",
       "      <th>WFH_expectation</th>\n",
       "      <th>WFH_perception</th>\n",
       "      <th>...</th>\n",
       "      <th>country_poland</th>\n",
       "      <th>country_russia</th>\n",
       "      <th>country_singapore</th>\n",
       "      <th>country_spain</th>\n",
       "      <th>country_sweden</th>\n",
       "      <th>country_taiwan</th>\n",
       "      <th>country_turkey</th>\n",
       "      <th>country_uk</th>\n",
       "      <th>country_ukraine</th>\n",
       "      <th>country_usa</th>\n",
       "    </tr>\n",
       "  </thead>\n",
       "  <tbody>\n",
       "    <tr>\n",
       "      <th>count</th>\n",
       "      <td>12474.000000</td>\n",
       "      <td>12474.000000</td>\n",
       "      <td>12474.000000</td>\n",
       "      <td>12474.000000</td>\n",
       "      <td>12474.000000</td>\n",
       "      <td>12474.000000</td>\n",
       "      <td>12474.000000</td>\n",
       "      <td>12474.000000</td>\n",
       "      <td>12474.000000</td>\n",
       "      <td>12474.000000</td>\n",
       "      <td>...</td>\n",
       "      <td>12474.000000</td>\n",
       "      <td>12474.000000</td>\n",
       "      <td>12474.000000</td>\n",
       "      <td>12474.000000</td>\n",
       "      <td>12474.000000</td>\n",
       "      <td>12474.000000</td>\n",
       "      <td>12474.000000</td>\n",
       "      <td>12474.000000</td>\n",
       "      <td>12474.000000</td>\n",
       "      <td>12474.00000</td>\n",
       "    </tr>\n",
       "    <tr>\n",
       "      <th>mean</th>\n",
       "      <td>1.242905</td>\n",
       "      <td>39.000561</td>\n",
       "      <td>0.779622</td>\n",
       "      <td>0.495310</td>\n",
       "      <td>2.622415</td>\n",
       "      <td>1.452862</td>\n",
       "      <td>2.503447</td>\n",
       "      <td>7.611432</td>\n",
       "      <td>7.267917</td>\n",
       "      <td>47.255491</td>\n",
       "      <td>...</td>\n",
       "      <td>0.026535</td>\n",
       "      <td>0.042168</td>\n",
       "      <td>0.064214</td>\n",
       "      <td>0.032307</td>\n",
       "      <td>0.039522</td>\n",
       "      <td>0.032067</td>\n",
       "      <td>0.050425</td>\n",
       "      <td>0.040805</td>\n",
       "      <td>0.039763</td>\n",
       "      <td>0.03848</td>\n",
       "    </tr>\n",
       "    <tr>\n",
       "      <th>std</th>\n",
       "      <td>0.763557</td>\n",
       "      <td>10.161728</td>\n",
       "      <td>0.414518</td>\n",
       "      <td>0.498251</td>\n",
       "      <td>2.089775</td>\n",
       "      <td>1.752797</td>\n",
       "      <td>1.758177</td>\n",
       "      <td>10.335732</td>\n",
       "      <td>12.015619</td>\n",
       "      <td>42.326908</td>\n",
       "      <td>...</td>\n",
       "      <td>0.160727</td>\n",
       "      <td>0.200980</td>\n",
       "      <td>0.245143</td>\n",
       "      <td>0.176822</td>\n",
       "      <td>0.194842</td>\n",
       "      <td>0.176184</td>\n",
       "      <td>0.218829</td>\n",
       "      <td>0.197846</td>\n",
       "      <td>0.195409</td>\n",
       "      <td>0.19236</td>\n",
       "    </tr>\n",
       "    <tr>\n",
       "      <th>min</th>\n",
       "      <td>0.000000</td>\n",
       "      <td>20.000000</td>\n",
       "      <td>0.000000</td>\n",
       "      <td>0.000000</td>\n",
       "      <td>0.000000</td>\n",
       "      <td>0.000000</td>\n",
       "      <td>0.000000</td>\n",
       "      <td>-30.000000</td>\n",
       "      <td>-25.000000</td>\n",
       "      <td>-95.000000</td>\n",
       "      <td>...</td>\n",
       "      <td>0.000000</td>\n",
       "      <td>0.000000</td>\n",
       "      <td>0.000000</td>\n",
       "      <td>0.000000</td>\n",
       "      <td>0.000000</td>\n",
       "      <td>0.000000</td>\n",
       "      <td>0.000000</td>\n",
       "      <td>0.000000</td>\n",
       "      <td>0.000000</td>\n",
       "      <td>0.00000</td>\n",
       "    </tr>\n",
       "    <tr>\n",
       "      <th>25%</th>\n",
       "      <td>1.000000</td>\n",
       "      <td>31.000000</td>\n",
       "      <td>1.000000</td>\n",
       "      <td>0.000000</td>\n",
       "      <td>0.000000</td>\n",
       "      <td>0.000000</td>\n",
       "      <td>1.000000</td>\n",
       "      <td>0.000000</td>\n",
       "      <td>0.000000</td>\n",
       "      <td>25.000000</td>\n",
       "      <td>...</td>\n",
       "      <td>0.000000</td>\n",
       "      <td>0.000000</td>\n",
       "      <td>0.000000</td>\n",
       "      <td>0.000000</td>\n",
       "      <td>0.000000</td>\n",
       "      <td>0.000000</td>\n",
       "      <td>0.000000</td>\n",
       "      <td>0.000000</td>\n",
       "      <td>0.000000</td>\n",
       "      <td>0.00000</td>\n",
       "    </tr>\n",
       "    <tr>\n",
       "      <th>50%</th>\n",
       "      <td>1.000000</td>\n",
       "      <td>38.000000</td>\n",
       "      <td>1.000000</td>\n",
       "      <td>0.000000</td>\n",
       "      <td>3.000000</td>\n",
       "      <td>0.000000</td>\n",
       "      <td>2.000000</td>\n",
       "      <td>7.500000</td>\n",
       "      <td>5.000000</td>\n",
       "      <td>70.000000</td>\n",
       "      <td>...</td>\n",
       "      <td>0.000000</td>\n",
       "      <td>0.000000</td>\n",
       "      <td>0.000000</td>\n",
       "      <td>0.000000</td>\n",
       "      <td>0.000000</td>\n",
       "      <td>0.000000</td>\n",
       "      <td>0.000000</td>\n",
       "      <td>0.000000</td>\n",
       "      <td>0.000000</td>\n",
       "      <td>0.00000</td>\n",
       "    </tr>\n",
       "    <tr>\n",
       "      <th>75%</th>\n",
       "      <td>2.000000</td>\n",
       "      <td>48.000000</td>\n",
       "      <td>1.000000</td>\n",
       "      <td>1.000000</td>\n",
       "      <td>5.000000</td>\n",
       "      <td>3.000000</td>\n",
       "      <td>4.000000</td>\n",
       "      <td>12.500000</td>\n",
       "      <td>15.000000</td>\n",
       "      <td>70.000000</td>\n",
       "      <td>...</td>\n",
       "      <td>0.000000</td>\n",
       "      <td>0.000000</td>\n",
       "      <td>0.000000</td>\n",
       "      <td>0.000000</td>\n",
       "      <td>0.000000</td>\n",
       "      <td>0.000000</td>\n",
       "      <td>0.000000</td>\n",
       "      <td>0.000000</td>\n",
       "      <td>0.000000</td>\n",
       "      <td>0.00000</td>\n",
       "    </tr>\n",
       "    <tr>\n",
       "      <th>max</th>\n",
       "      <td>2.000000</td>\n",
       "      <td>59.000000</td>\n",
       "      <td>1.000000</td>\n",
       "      <td>1.000000</td>\n",
       "      <td>5.000000</td>\n",
       "      <td>5.000000</td>\n",
       "      <td>5.000000</td>\n",
       "      <td>30.000000</td>\n",
       "      <td>25.000000</td>\n",
       "      <td>95.000000</td>\n",
       "      <td>...</td>\n",
       "      <td>1.000000</td>\n",
       "      <td>1.000000</td>\n",
       "      <td>1.000000</td>\n",
       "      <td>1.000000</td>\n",
       "      <td>1.000000</td>\n",
       "      <td>1.000000</td>\n",
       "      <td>1.000000</td>\n",
       "      <td>1.000000</td>\n",
       "      <td>1.000000</td>\n",
       "      <td>1.00000</td>\n",
       "    </tr>\n",
       "  </tbody>\n",
       "</table>\n",
       "<p>8 rows × 59 columns</p>\n",
       "</div>"
      ],
      "text/plain": [
       "          education           age       married     with_kids  \\\n",
       "count  12474.000000  12474.000000  12474.000000  12474.000000   \n",
       "mean       1.242905     39.000561      0.779622      0.495310   \n",
       "std        0.763557     10.161728      0.414518      0.498251   \n",
       "min        0.000000     20.000000      0.000000      0.000000   \n",
       "25%        1.000000     31.000000      1.000000      0.000000   \n",
       "50%        1.000000     38.000000      1.000000      0.000000   \n",
       "75%        2.000000     48.000000      1.000000      1.000000   \n",
       "max        2.000000     59.000000      1.000000      1.000000   \n",
       "\n",
       "       work_home_days_current  work_home_days_employer  \\\n",
       "count            12474.000000             12474.000000   \n",
       "mean                 2.622415                 1.452862   \n",
       "std                  2.089775                 1.752797   \n",
       "min                  0.000000                 0.000000   \n",
       "25%                  0.000000                 0.000000   \n",
       "50%                  3.000000                 0.000000   \n",
       "75%                  5.000000                 3.000000   \n",
       "max                  5.000000                 5.000000   \n",
       "\n",
       "       work_home_days_employee     WFH_value  WFH_expectation  WFH_perception  \\\n",
       "count             12474.000000  12474.000000     12474.000000    12474.000000   \n",
       "mean                  2.503447      7.611432         7.267917       47.255491   \n",
       "std                   1.758177     10.335732        12.015619       42.326908   \n",
       "min                   0.000000    -30.000000       -25.000000      -95.000000   \n",
       "25%                   1.000000      0.000000         0.000000       25.000000   \n",
       "50%                   2.000000      7.500000         5.000000       70.000000   \n",
       "75%                   4.000000     12.500000        15.000000       70.000000   \n",
       "max                   5.000000     30.000000        25.000000       95.000000   \n",
       "\n",
       "       ...  country_poland  country_russia  country_singapore  country_spain  \\\n",
       "count  ...    12474.000000    12474.000000       12474.000000   12474.000000   \n",
       "mean   ...        0.026535        0.042168           0.064214       0.032307   \n",
       "std    ...        0.160727        0.200980           0.245143       0.176822   \n",
       "min    ...        0.000000        0.000000           0.000000       0.000000   \n",
       "25%    ...        0.000000        0.000000           0.000000       0.000000   \n",
       "50%    ...        0.000000        0.000000           0.000000       0.000000   \n",
       "75%    ...        0.000000        0.000000           0.000000       0.000000   \n",
       "max    ...        1.000000        1.000000           1.000000       1.000000   \n",
       "\n",
       "       country_sweden  country_taiwan  country_turkey    country_uk  \\\n",
       "count    12474.000000    12474.000000    12474.000000  12474.000000   \n",
       "mean         0.039522        0.032067        0.050425      0.040805   \n",
       "std          0.194842        0.176184        0.218829      0.197846   \n",
       "min          0.000000        0.000000        0.000000      0.000000   \n",
       "25%          0.000000        0.000000        0.000000      0.000000   \n",
       "50%          0.000000        0.000000        0.000000      0.000000   \n",
       "75%          0.000000        0.000000        0.000000      0.000000   \n",
       "max          1.000000        1.000000        1.000000      1.000000   \n",
       "\n",
       "       country_ukraine  country_usa  \n",
       "count     12474.000000  12474.00000  \n",
       "mean          0.039763      0.03848  \n",
       "std           0.195409      0.19236  \n",
       "min           0.000000      0.00000  \n",
       "25%           0.000000      0.00000  \n",
       "50%           0.000000      0.00000  \n",
       "75%           0.000000      0.00000  \n",
       "max           1.000000      1.00000  \n",
       "\n",
       "[8 rows x 59 columns]"
      ]
     },
     "execution_count": 11,
     "metadata": {},
     "output_type": "execute_result"
    }
   ],
   "source": [
    "ml_data.describe()"
   ]
  },
  {
   "cell_type": "markdown",
   "id": "5e373588-ef88-45aa-8b18-81716270c01b",
   "metadata": {},
   "source": [
    "Save the machine learning dataset:"
   ]
  },
  {
   "cell_type": "code",
   "execution_count": 12,
   "id": "55e8b78f-b5f3-4849-8d8d-21ecb47ed60c",
   "metadata": {},
   "outputs": [],
   "source": [
    "ml_data.to_excel('G-SWA ML.xlsx', index=False)"
   ]
  },
  {
   "cell_type": "markdown",
   "id": "03886576-f1a0-4941-90f0-0ac82d6e9855",
   "metadata": {},
   "source": [
    "\n",
    "\n"
   ]
  },
  {
   "cell_type": "markdown",
   "id": "f279164a-425d-4856-ac3a-8421eb480540",
   "metadata": {
    "tags": []
   },
   "source": [
    "## Machine Learning\n",
    "### Train-Test Split\n",
    "For supervised machine learning the dataset must be separated into X and y variables, with y being the dependent variable and X being the independent variables:"
   ]
  },
  {
   "cell_type": "code",
   "execution_count": 13,
   "id": "69ff6daa-7c37-4a16-9de2-e71d0d510c0b",
   "metadata": {},
   "outputs": [],
   "source": [
    "X = ml_data.drop('return_office', axis=1)\n",
    "y = ml_data['return_office']"
   ]
  },
  {
   "cell_type": "markdown",
   "id": "fee73a3f-a876-42ae-8925-69d364fefee1",
   "metadata": {},
   "source": [
    "Next, the dataset must be split into training and testing sets in order to evaluate the performance of a generated model:"
   ]
  },
  {
   "cell_type": "code",
   "execution_count": 14,
   "id": "58f9d096-2465-446a-99b4-fcfc5a30acd7",
   "metadata": {},
   "outputs": [],
   "source": [
    "from sklearn.model_selection import train_test_split"
   ]
  },
  {
   "cell_type": "code",
   "execution_count": 15,
   "id": "6887e31d-2b9c-4bff-99e0-4073bb130fe0",
   "metadata": {},
   "outputs": [
    {
     "data": {
      "text/plain": [
       "Comply and return to worksite     6987\n",
       "Look for a job to WFH 1-2 days    2135\n",
       "Quit job                           233\n",
       "Name: return_office, dtype: int64"
      ]
     },
     "execution_count": 15,
     "metadata": {},
     "output_type": "execute_result"
    }
   ],
   "source": [
    "X_train, X_test, y_train, y_test = train_test_split(X, y, random_state=36)\n",
    "y_train.value_counts()"
   ]
  },
  {
   "cell_type": "markdown",
   "id": "3511f81e-6649-4fc2-9642-872aceae1f4b",
   "metadata": {},
   "source": [
    "### Address Class Imbalance\n",
    "Imbalance between the classification categories will cause difficulties for some machine learning algorithms. \n",
    "\n",
    "Use the imbalanced-learn synthetic minority oversampling technique - edited nearest neighbor (SMOTEENN) to perform majority class undersampling and minority class oversampling to address class imbalance:"
   ]
  },
  {
   "cell_type": "code",
   "execution_count": 16,
   "id": "dd62e3cb-e086-4603-a7eb-f7367b498a24",
   "metadata": {},
   "outputs": [],
   "source": [
    "# install imbalanced-learn, if not installed, using 'pip install imblearn'\n",
    "from imblearn.combine import SMOTEENN"
   ]
  },
  {
   "cell_type": "code",
   "execution_count": 17,
   "id": "ef3a6dec-5fa4-4d21-b667-e3debf1408ed",
   "metadata": {},
   "outputs": [
    {
     "name": "stderr",
     "output_type": "stream",
     "text": [
      "C:\\Users\\Dee\\anaconda3\\lib\\site-packages\\imblearn\\over_sampling\\_smote\\base.py:336: FutureWarning: The parameter `n_jobs` has been deprecated in 0.10 and will be removed in 0.12. You can pass an nearest neighbors estimator where `n_jobs` is already set instead.\n",
      "  warnings.warn(\n"
     ]
    }
   ],
   "source": [
    "smote_enn = SMOTEENN(random_state=36, n_jobs=-1)\n",
    "X_resampled, y_resampled = smote_enn.fit_resample(X_train, y_train)"
   ]
  },
  {
   "cell_type": "code",
   "execution_count": 18,
   "id": "28d02902-db3f-4f1a-a92d-f717155cc028",
   "metadata": {},
   "outputs": [
    {
     "data": {
      "text/plain": [
       "Quit job                          6539\n",
       "Look for a job to WFH 1-2 days    4538\n",
       "Comply and return to worksite     2804\n",
       "Name: return_office, dtype: int64"
      ]
     },
     "execution_count": 18,
     "metadata": {},
     "output_type": "execute_result"
    }
   ],
   "source": [
    "y_resampled.value_counts()"
   ]
  },
  {
   "cell_type": "code",
   "execution_count": 19,
   "id": "2cb63c92-da72-4878-909b-1ffcafb29608",
   "metadata": {},
   "outputs": [
    {
     "name": "stdout",
     "output_type": "stream",
     "text": [
      "Original training set: 9355 --> Resampled training set: 13881\n"
     ]
    }
   ],
   "source": [
    "print(f'Original training set: {len(X_train)} --> Resampled training set: {len(X_resampled)}')"
   ]
  },
  {
   "cell_type": "markdown",
   "id": "06a1316f-da40-428a-b717-1b7a49c92f0f",
   "metadata": {},
   "source": [
    "The training data now has a more equitable split between the different classes.\n",
    "\n",
    "## k-Nearest Neighbors Classifier\n",
    "\n",
    "This classifier generates a prediction by evaluating the proximity of a datapoint to other datapoints."
   ]
  },
  {
   "cell_type": "code",
   "execution_count": 20,
   "id": "f8b08a1f-a6a8-45af-8af9-f443ea57bb3d",
   "metadata": {},
   "outputs": [],
   "source": [
    "from sklearn.neighbors import KNeighborsClassifier"
   ]
  },
  {
   "cell_type": "markdown",
   "id": "b9d02e89-75a6-4e82-8464-767bb3b60df4",
   "metadata": {},
   "source": [
    "Create a k-neighbors classifier, fit it to the training data, and generate a prediction:"
   ]
  },
  {
   "cell_type": "code",
   "execution_count": 21,
   "id": "ce083638-6c29-4e38-992e-3ca6fa9d1344",
   "metadata": {},
   "outputs": [
    {
     "name": "stderr",
     "output_type": "stream",
     "text": [
      "C:\\Users\\Dee\\anaconda3\\lib\\site-packages\\sklearn\\neighbors\\_classification.py:228: FutureWarning: Unlike other reduction functions (e.g. `skew`, `kurtosis`), the default behavior of `mode` typically preserves the axis it acts along. In SciPy 1.11.0, this behavior will change: the default value of `keepdims` will become False, the `axis` over which the statistic is taken will be eliminated, and the value None will no longer be accepted. Set `keepdims` to True or False to avoid this warning.\n",
      "  mode, _ = stats.mode(_y[neigh_ind, k], axis=1)\n"
     ]
    }
   ],
   "source": [
    "knc = KNeighborsClassifier(n_jobs=-1)\n",
    "knc.fit(X_train, y_train)\n",
    "y_predict = knc.predict(X_test)"
   ]
  },
  {
   "cell_type": "markdown",
   "id": "18f82ff2-2b6d-41bb-85d2-1bffc59e7944",
   "metadata": {},
   "source": [
    "Import scoring metrics from scikit-learn and evaluate the model's accuracy:"
   ]
  },
  {
   "cell_type": "code",
   "execution_count": 22,
   "id": "d8e385f5-f283-4c0e-b51e-f3f5744c8382",
   "metadata": {},
   "outputs": [
    {
     "name": "stdout",
     "output_type": "stream",
     "text": [
      "[[2090  205    0]\n",
      " [ 603  137    0]\n",
      " [  76    8    0]]\n"
     ]
    }
   ],
   "source": [
    "from sklearn.metrics import confusion_matrix, classification_report\n",
    "print(confusion_matrix(y_test, y_predict))"
   ]
  },
  {
   "cell_type": "code",
   "execution_count": 23,
   "id": "f1fc8946-420b-44b2-8764-3b491e799626",
   "metadata": {},
   "outputs": [
    {
     "name": "stdout",
     "output_type": "stream",
     "text": [
      "                                precision    recall  f1-score   support\n",
      "\n",
      " Comply and return to worksite       0.75      0.91      0.83      2295\n",
      "Look for a job to WFH 1-2 days       0.39      0.19      0.25       740\n",
      "                      Quit job       0.00      0.00      0.00        84\n",
      "\n",
      "                      accuracy                           0.71      3119\n",
      "                     macro avg       0.38      0.37      0.36      3119\n",
      "                  weighted avg       0.65      0.71      0.67      3119\n",
      "\n"
     ]
    }
   ],
   "source": [
    "print(classification_report(y_test, y_predict, zero_division=0))"
   ]
  },
  {
   "cell_type": "markdown",
   "id": "e7c97c96-4300-43a6-aa1d-ed0e5349cb98",
   "metadata": {},
   "source": [
    "While the overall accuracy is reasonable for the model, this is mostly due to the imbalanced data and an over-emphasis on the majority class.\n",
    "\n",
    "\n",
    "Refit the classifier using the resampled data that balances the classes and generate a new set of predictions:"
   ]
  },
  {
   "cell_type": "code",
   "execution_count": 24,
   "id": "8c89a335-d87f-407c-8e50-e6abad118472",
   "metadata": {},
   "outputs": [
    {
     "name": "stderr",
     "output_type": "stream",
     "text": [
      "C:\\Users\\Dee\\anaconda3\\lib\\site-packages\\sklearn\\neighbors\\_classification.py:228: FutureWarning: Unlike other reduction functions (e.g. `skew`, `kurtosis`), the default behavior of `mode` typically preserves the axis it acts along. In SciPy 1.11.0, this behavior will change: the default value of `keepdims` will become False, the `axis` over which the statistic is taken will be eliminated, and the value None will no longer be accepted. Set `keepdims` to True or False to avoid this warning.\n",
      "  mode, _ = stats.mode(_y[neigh_ind, k], axis=1)\n"
     ]
    }
   ],
   "source": [
    "knc.fit(X_resampled, y_resampled)\n",
    "y_predict = knc.predict(X_test)"
   ]
  },
  {
   "cell_type": "markdown",
   "id": "c79e0449-7a7a-443b-8870-d70823d6911a",
   "metadata": {
    "tags": []
   },
   "source": [
    "Evaluate the new model:"
   ]
  },
  {
   "cell_type": "code",
   "execution_count": 25,
   "id": "fbe6af2e-62af-4a9e-8131-def44b799340",
   "metadata": {},
   "outputs": [
    {
     "name": "stdout",
     "output_type": "stream",
     "text": [
      "[[982 945 368]\n",
      " [152 447 141]\n",
      " [ 19  36  29]]\n"
     ]
    }
   ],
   "source": [
    "print(confusion_matrix(y_test, y_predict))"
   ]
  },
  {
   "cell_type": "code",
   "execution_count": 26,
   "id": "5a49c9f4-f22b-48d1-9600-b24c91e56d20",
   "metadata": {},
   "outputs": [
    {
     "name": "stdout",
     "output_type": "stream",
     "text": [
      "                                precision    recall  f1-score   support\n",
      "\n",
      " Comply and return to worksite       0.85      0.43      0.57      2295\n",
      "Look for a job to WFH 1-2 days       0.31      0.60      0.41       740\n",
      "                      Quit job       0.05      0.35      0.09        84\n",
      "\n",
      "                      accuracy                           0.47      3119\n",
      "                     macro avg       0.41      0.46      0.36      3119\n",
      "                  weighted avg       0.70      0.47      0.52      3119\n",
      "\n"
     ]
    }
   ],
   "source": [
    "print(classification_report(y_test, y_predict))"
   ]
  },
  {
   "cell_type": "markdown",
   "id": "028713e0-036c-40d3-a2b0-189a3bf91575",
   "metadata": {},
   "source": [
    "While the model now has better inclusion of all classes, the overall accuracy of the model has dropped significantly.\n",
    "\n",
    "## Multilayer Perceptron Classifier\n",
    "\n",
    "A multilayer perceptron classifier is a feedforward artifical neural network that can generate classification predictions."
   ]
  },
  {
   "cell_type": "code",
   "execution_count": 27,
   "id": "57787bc2-db8e-402f-b5f7-3e28baf8afc2",
   "metadata": {},
   "outputs": [],
   "source": [
    "from sklearn.neural_network import MLPClassifier"
   ]
  },
  {
   "cell_type": "markdown",
   "id": "b849edbd-17bb-4876-85a1-15c170aa7d0d",
   "metadata": {},
   "source": [
    "Create a multilayer perceptron classifier, fit it to the original training data, and generate a prediction:"
   ]
  },
  {
   "cell_type": "code",
   "execution_count": 81,
   "id": "63da6623-349d-4863-936e-f4357666659e",
   "metadata": {},
   "outputs": [],
   "source": [
    "mlpc = MLPClassifier(solver='adam', activation='logistic', learning_rate='adaptive', learning_rate_init=0.0001, batch_size=32, random_state=36)\n",
    "mlpc.fit(X_train, y_train)\n",
    "y_predict = mlpc.predict(X_test)"
   ]
  },
  {
   "cell_type": "markdown",
   "id": "cc4b1ebc-db7f-47ad-9f7c-4e9c50cfb1ef",
   "metadata": {},
   "source": [
    "Evaluate the model's performance:"
   ]
  },
  {
   "cell_type": "code",
   "execution_count": 82,
   "id": "4437dd93-b4c2-4017-b36f-62c0a7448b3e",
   "metadata": {},
   "outputs": [
    {
     "name": "stdout",
     "output_type": "stream",
     "text": [
      "[[2295    0    0]\n",
      " [ 740    0    0]\n",
      " [  84    0    0]]\n"
     ]
    }
   ],
   "source": [
    "print(confusion_matrix(y_test, y_predict))"
   ]
  },
  {
   "cell_type": "code",
   "execution_count": 83,
   "id": "365bfe95-01de-4bbe-8874-216e8ab18720",
   "metadata": {},
   "outputs": [
    {
     "name": "stdout",
     "output_type": "stream",
     "text": [
      "                                precision    recall  f1-score   support\n",
      "\n",
      " Comply and return to worksite       0.74      1.00      0.85      2295\n",
      "Look for a job to WFH 1-2 days       0.00      0.00      0.00       740\n",
      "                      Quit job       0.00      0.00      0.00        84\n",
      "\n",
      "                      accuracy                           0.74      3119\n",
      "                     macro avg       0.25      0.33      0.28      3119\n",
      "                  weighted avg       0.54      0.74      0.62      3119\n",
      "\n"
     ]
    }
   ],
   "source": [
    "print(classification_report(y_test, y_predict, zero_division=0))"
   ]
  },
  {
   "cell_type": "markdown",
   "id": "ac6a3816-4224-4d12-8fc1-c57a15cddba0",
   "metadata": {},
   "source": [
    "Due to the class imbalance, this model only predicts the majority class. This may result in a higher average accuracy, but results in a model that does not offer any predictive value.\n",
    "\n",
    "Refit the classifier using the resampled data which addresses class imbalance and generate a new set of predictions:"
   ]
  },
  {
   "cell_type": "code",
   "execution_count": 84,
   "id": "4d205d70-02f3-4b5c-9909-81426be10bf6",
   "metadata": {},
   "outputs": [],
   "source": [
    "mlpc.fit(X_resampled, y_resampled)\n",
    "y_predict = mlpc.predict(X_test)"
   ]
  },
  {
   "cell_type": "code",
   "execution_count": 85,
   "id": "9677a951-fa7e-439b-a76e-5d031755cfe3",
   "metadata": {},
   "outputs": [
    {
     "name": "stdout",
     "output_type": "stream",
     "text": [
      "[[1092  972  231]\n",
      " [ 148  464  128]\n",
      " [  13   28   43]]\n"
     ]
    }
   ],
   "source": [
    "print(confusion_matrix(y_test, y_predict))"
   ]
  },
  {
   "cell_type": "code",
   "execution_count": 86,
   "id": "36c215d6-3fd0-4bbb-bfea-8167197c206d",
   "metadata": {},
   "outputs": [
    {
     "name": "stdout",
     "output_type": "stream",
     "text": [
      "                                precision    recall  f1-score   support\n",
      "\n",
      " Comply and return to worksite       0.87      0.48      0.62      2295\n",
      "Look for a job to WFH 1-2 days       0.32      0.63      0.42       740\n",
      "                      Quit job       0.11      0.51      0.18        84\n",
      "\n",
      "                      accuracy                           0.51      3119\n",
      "                     macro avg       0.43      0.54      0.40      3119\n",
      "                  weighted avg       0.72      0.51      0.56      3119\n",
      "\n"
     ]
    }
   ],
   "source": [
    "print(classification_report(y_test, y_predict))"
   ]
  },
  {
   "cell_type": "markdown",
   "id": "8965ef61-a98b-4633-ac2b-896a16c39b38",
   "metadata": {},
   "source": [
    "Using the resampled training data the mlp classifier still has relatively low accuracy, but at least offers predictions for each of the three classes.\n",
    "\n",
    "# Results\n",
    "\n",
    "Both of the machine learning algorithms used (k-nearest neighbors and multilayer perceptron classifier) struggled to handle the class imbalance of the training data. This resulted in both models predicting only the majority class, which is not a useful predictive outcome. However, this is not surprising as there was a significant imbalance between the classes (~200, ~2000, ~7000). There were approximately 35 times more examples in the majority class as the minority class.\n",
    "\n",
    "To address this, the training data was resampled using a combined over- and under-sampling technique (SMOTEENN). This resulted in a much closer balance between the three classes, with the majority class only being approximately 2.5x the size of the minority class. This resulted in both models offering predictions for each of the three classes. However, the overall precision and recall for both machine learning algorithms was disappointing, with f1-scores hovering around 50%.\n",
    "\n",
    "Further tweaking could result in an improvement of the generated models. Additionally, neural network classifiers like mlp, perform better when feature scaling is employed, which could result in a model that performs better."
   ]
  }
 ],
 "metadata": {
  "kernelspec": {
   "display_name": "Python 3 (ipykernel)",
   "language": "python",
   "name": "python3"
  },
  "language_info": {
   "codemirror_mode": {
    "name": "ipython",
    "version": 3
   },
   "file_extension": ".py",
   "mimetype": "text/x-python",
   "name": "python",
   "nbconvert_exporter": "python",
   "pygments_lexer": "ipython3",
   "version": "3.9.13"
  }
 },
 "nbformat": 4,
 "nbformat_minor": 5
}
